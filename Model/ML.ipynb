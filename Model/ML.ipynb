{
 "cells": [
  {
   "cell_type": "markdown",
   "id": "fb605b58",
   "metadata": {},
   "source": [
    "RandomForest_each"
   ]
  },
  {
   "cell_type": "code",
   "execution_count": 3,
   "id": "45c23953",
   "metadata": {},
   "outputs": [
    {
     "name": "stdout",
     "output_type": "stream",
     "text": [
      "準確度: 0.7201704545454546\n"
     ]
    }
   ],
   "source": [
    "from sklearn.model_selection import train_test_split\n",
    "from sklearn.ensemble import RandomForestClassifier\n",
    "import pandas as pd\n",
    "\n",
    "df = pd.read_csv('outputtotal2_3fps.csv', encoding='utf-8')\n",
    "df2 = pd.read_csv('fps_Vec_1220.csv', encoding='utf-8')\n",
    "df = pd.concat([df, df2], ignore_index=True)\n",
    "\n",
    "x = df.iloc[:, 1:]\n",
    "y = df.iloc[:, 0]\n",
    "df3 = pd.read_csv('fps_Vec_1220_test.csv')\n",
    "test_feature = df3.iloc[:, 1:]\n",
    "test_label = df3.iloc[:, 0]\n",
    "\n",
    "x_train, x_test, y_train, y_test = train_test_split(x, y)\n",
    "\n",
    "rf = RandomForestClassifier()\n",
    "\n",
    "rf.fit(x_train, y_train)\n",
    "\n",
    "score = rf.score(test_feature, test_label)\n",
    "print(\"準確度:\", score)"
   ]
  },
  {
   "cell_type": "markdown",
   "id": "235eae86",
   "metadata": {},
   "source": [
    "KNN_each"
   ]
  },
  {
   "cell_type": "code",
   "execution_count": null,
   "id": "f039528b",
   "metadata": {},
   "outputs": [
    {
     "name": "stdout",
     "output_type": "stream",
     "text": [
      "目標值: 0      0\n",
      "1      0\n",
      "2      0\n",
      "3      0\n",
      "4      0\n",
      "      ..\n",
      "699    4\n",
      "700    4\n",
      "701    4\n",
      "702    4\n",
      "703    4\n",
      "Name: class, Length: 704, dtype: int64\n",
      "預測結果:[3 3 3 3 3 4 3 3 3 3 3 3 4 3 3 3 3 3 3 3 3 3 3 3 3 3 3 3 3 3 3 3 3 3 3 3 3\n",
      " 3 3 3 3 3 3 3 3 3 3 3 3 3 3 3 3 3 3 3 3 3 3 3 3 3 3 3 3 3 4 4 3 4 3 4 4 3\n",
      " 4 4 3 3 3 3 3 3 3 3 3 3 3 3 4 4 4 4 4 4 4 4 4 4 3 3 3 3 3 3 3 3 3 3 3 3 4\n",
      " 4 4 3 3 3 3 3 3 3 3 3 3 3 3 3 3 3 3 3 3 3 3 3 3 3 3 3 3 3 4 4 4 4 4 3 4 4\n",
      " 4 4 4 4 4 4 4 4 4 4 4 4 4 4 4 4 3 3 3 3 3 3 3 3 3 3 3 3 3 3 3 3 3 4 3 4 3\n",
      " 4 3 3 4 4 4 4 4 4 3 3 3 3 3 3 3 3 3 3 3 3 3 3 3 3 3 3 3 3 3 3 3 3 3 3 3 3\n",
      " 3 3 3 3 3 3 3 3 3 3 3 3 3 3 3 3 3 4 4 4 4 4 4 3 4 4 4 4 3 3 3 3 3 3 3 3 3\n",
      " 3 3 3 3 3 3 3 3 3 3 3 3 3 3 3 4 4 4 3 3 3 4 3 3 3 3 3 3 3 3 3 3 3 3 3 3 3\n",
      " 3 3 3 3 3 3 3 3 3 3 3 3 3 3 3 3 3 3 3 3 3 4 4 4 4 4 4 4 4 4 4 4 4 4 4 3 4\n",
      " 3 3 3 3 3 3 3 3 3 3 3 3 3 3 3 3 3 3 3 3 4 4 3 3 3 3 3 3 3 3 3 3 3 3 3 3 3\n",
      " 3 3 3 3 3 3 3 3 3 3 3 3 3 3 3 3 3 3 3 3 3 3 4 4 3 3 3 3 3 3 4 4 4 3 3 3 3\n",
      " 4 4 4 4 4 4 3 4 3 3 3 3 3 3 3 3 3 4 3 3 3 3 3 3 3 3 3 3 3 3 3 3 3 3 3 3 3\n",
      " 3 3 3 3 3 3 3 3 3 3 3 3 3 3 3 3 3 3 3 3 3 3 3 3 3 3 3 3 3 3 3 3 3 3 3 3 4\n",
      " 3 3 3 3 4 4 3 4 3 3 3 3 4 3 3 3 3 3 3 3 3 3 3 3 3 3 3 3 3 3 3 3 3 3 3 3 4\n",
      " 3 3 3 3 3 3 3 3 3 3 3 3 3 3 3 3 3 3 3 3 3 3 3 3 3 3 3 3 3 3 3 3 3 3 3 3 3\n",
      " 3 3 3 3 3 3 3 3 3 3 4 4 4 4 4 4 4 4 4 4 4 4 4 4 4 3 3 3 3 3 3 3 3 3 3 3 3\n",
      " 3 3 3 3 3 3 3 3 3 3 3 3 3 3 4 3 3 3 3 3 3 3 3 3 3 3 3 3 3 3 3 3 3 3 3 3 3\n",
      " 3 3 3 3 3 3 3 3 3 3 3 3 3 3 3 3 3 3 3 3 3 3 3 3 3 3 3 3 3 3 3 3 3 3 4 4 4\n",
      " 4 4 4 4 4 4 4 4 4 4 4 4 4 4 4 4 4 4 4 3 3 3 3 3 3 3 3 3 3 3 3 3 3 3 3 3 3\n",
      " 3]\n",
      "準確率:0.23295454545454544\n"
     ]
    },
    {
     "name": "stderr",
     "output_type": "stream",
     "text": [
      "/Users/waynewang/miniconda/lib/python3.9/site-packages/sklearn/base.py:443: UserWarning: X has feature names, but KNeighborsClassifier was fitted without feature names\n",
      "  warnings.warn(\n",
      "/Users/waynewang/miniconda/lib/python3.9/site-packages/sklearn/base.py:443: UserWarning: X has feature names, but KNeighborsClassifier was fitted without feature names\n",
      "  warnings.warn(\n"
     ]
    }
   ],
   "source": [
    "from sklearn.neighbors import KNeighborsClassifier\n",
    "from sklearn.model_selection import train_test_split\n",
    "from sklearn.preprocessing import StandardScaler\n",
    "import numpy as np\n",
    "import pandas as pd\n",
    "\n",
    "df = pd.read_csv('outputtotal2_3fps.csv', encoding='utf-8')\n",
    "df2 = pd.read_csv('fps_Vec_1220.csv', encoding='utf-8')\n",
    "df = pd.concat([df, df2], ignore_index=True)\n",
    "x = df.iloc[:,1:]\n",
    "y = df.iloc[:,0]\n",
    "\n",
    "x_train, x_test, y_train, y_test = train_test_split(x, y)\n",
    "\n",
    "df2 = pd.read_csv('normal_test.csv', encoding='utf-8')\n",
    "test_feature = df2.iloc[:, 1:]\n",
    "test_label = df2.iloc[:, 0]\n",
    "\n",
    "std = StandardScaler()\n",
    "\n",
    "x_train = std.fit_transform(x_train)\n",
    "x_test = std.transform(test_feature)\n",
    "knn = KNeighborsClassifier(n_neighbors=5)\n",
    "knn.fit(x_train, y_train)\n",
    "y_predict = knn.predict(test_feature)\n",
    "print('目標值: {}'.format(test_label))\n",
    "print('預測結果:{}'.format(y_predict))\n",
    "print('準確率:{}'.format(knn.score(test_feature, test_label)))"
   ]
  },
  {
   "cell_type": "markdown",
   "id": "08638d22",
   "metadata": {},
   "source": [
    "Logistic regression Ｃ"
   ]
  },
  {
   "cell_type": "code",
   "execution_count": 10,
   "id": "c65d7463",
   "metadata": {},
   "outputs": [
    {
     "name": "stdout",
     "output_type": "stream",
     "text": [
      "訓練集:  0.8215716945996275\n",
      "切分測試集:  0.8306332842415317\n",
      "0測試集:  0.821619812583668\n"
     ]
    },
    {
     "name": "stderr",
     "output_type": "stream",
     "text": [
      "/Users/waynewang/miniconda/lib/python3.9/site-packages/sklearn/base.py:443: UserWarning: X has feature names, but LogisticRegression was fitted without feature names\n",
      "  warnings.warn(\n"
     ]
    }
   ],
   "source": [
    "import pandas as pd\n",
    "import numpy as np\n",
    "import matplotlib.pyplot as plt\n",
    "from sklearn.model_selection import train_test_split\n",
    "from sklearn.linear_model import LogisticRegression\n",
    "\n",
    "# Read CSV file for Training the model using Pandas\n",
    "df_train = pd.read_csv(\"output5.csv\", header=0)\n",
    "\n",
    "# First we must sort the values of the dataset according to the Alphabets\n",
    "df_train = df_train.sort_values(by=[\"class\"])\n",
    "\n",
    "\n",
    "X = df_train.drop(labels=['class'],axis=1).values # 移除Species並取得剩下欄位資料\n",
    "y = df_train['class'].values\n",
    "X_train, X_test, y_train, y_test = train_test_split(X, y, test_size=0.01, random_state=42, stratify=y)\n",
    "\n",
    "df2 = pd.read_csv(\"output5test.csv\", encoding='utf-8')\n",
    "test_feature = df2.iloc[:, 1:]\n",
    "test_label = df2.iloc[:, 0]\n",
    "\n",
    "# 建立Logistic模型\n",
    "logisticModel = LogisticRegression(multi_class='auto', solver='newton-cg',random_state=0)\n",
    "# 使用訓練資料訓練模型\n",
    "logisticModel.fit(X_train, y_train)\n",
    "# 使用訓練資料預測分類\n",
    "predicted = logisticModel.predict(X_train)\n",
    "\n",
    "# 預測成功的比例\n",
    "print('訓練集: ',logisticModel.score(X_train,y_train))\n",
    "print('切分測試集: ',logisticModel.score(X_test,y_test))\n",
    "print('0測試集: ',logisticModel.score(test_feature,test_label))"
   ]
  }
 ],
 "metadata": {
  "kernelspec": {
   "display_name": "Python 3 (ipykernel)",
   "language": "python",
   "name": "python3"
  },
  "language_info": {
   "codemirror_mode": {
    "name": "ipython",
    "version": 3
   },
   "file_extension": ".py",
   "mimetype": "text/x-python",
   "name": "python",
   "nbconvert_exporter": "python",
   "pygments_lexer": "ipython3",
   "version": "3.9.12"
  }
 },
 "nbformat": 4,
 "nbformat_minor": 5
}

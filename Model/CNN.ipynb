{
 "cells": [
  {
   "cell_type": "code",
   "execution_count": 1,
   "metadata": {
    "id": "aowDORZemee2"
   },
   "outputs": [],
   "source": [
    "import pandas as pd\n",
    "import numpy as np\n",
    "import tensorflow as tf\n",
    "import os\n",
    "import csv\n",
    "import cv2 as cv\n",
    "import matplotlib.pyplot as plt\n",
    "import matplotlib.image as mpimg\n",
    "from keras.utils import to_categorical\n",
    "import sklearn\n",
    "from keras.utils import np_utils\n",
    "from keras.callbacks import EarlyStopping\n",
    "from sklearn.preprocessing import MaxAbsScaler\n",
    "\n",
    "\n",
    "# Read CSV file for Training the model using Pandas\n",
    "df_train = pd.read_csv(\"totol_CV_2fps.csv\", header=0)\n",
    "df_train2 = pd.read_csv(\"outputtotal2_3fps.csv\", header=0)\n",
    "df_train3 = pd.read_csv(\"FPS4_0104_vec_C.csv\", header=0)\n",
    "# Read CSV file for Validation or Testing the Model using Pandas\n",
    "df_test = pd.read_csv(\"fps_Vec_1220_test.csv\", header=0)\n",
    "# df_test2 = pd.read_csv(\"output5test.csv\", header=0)\n",
    "# df_test2 = df_test2.iloc[:,1:]\n",
    "# df_test = pd.concat([df_test, df_test2], axis = 1)\n",
    "\n",
    "df_train = pd.concat([df_train, df_train2, df_train3], ignore_index=True)"
   ]
  },
  {
   "cell_type": "code",
   "execution_count": 2,
   "metadata": {
    "colab": {
     "base_uri": "https://localhost:8080/",
     "height": 488
    },
    "executionInfo": {
     "elapsed": 4,
     "status": "ok",
     "timestamp": 1671591089420,
     "user": {
      "displayName": "林蓬鬆",
      "userId": "10296061809598689077"
     },
     "user_tz": -480
    },
    "id": "E0-cJzrmkFot",
    "outputId": "8a3db740-e4e1-4429-91e0-c92a68c27121"
   },
   "outputs": [
    {
     "data": {
      "text/html": [
       "<div>\n",
       "<style scoped>\n",
       "    .dataframe tbody tr th:only-of-type {\n",
       "        vertical-align: middle;\n",
       "    }\n",
       "\n",
       "    .dataframe tbody tr th {\n",
       "        vertical-align: top;\n",
       "    }\n",
       "\n",
       "    .dataframe thead th {\n",
       "        text-align: right;\n",
       "    }\n",
       "</style>\n",
       "<table border=\"1\" class=\"dataframe\">\n",
       "  <thead>\n",
       "    <tr style=\"text-align: right;\">\n",
       "      <th></th>\n",
       "      <th>class</th>\n",
       "      <th>thumb_CmcX</th>\n",
       "      <th>thumb_CmcY</th>\n",
       "      <th>thumb_CmcZ</th>\n",
       "      <th>thumb_McpX</th>\n",
       "      <th>thumb_McpY</th>\n",
       "      <th>thumb_McpZ</th>\n",
       "      <th>thumb_IpX</th>\n",
       "      <th>thumb_IpY</th>\n",
       "      <th>thumb_IpZ</th>\n",
       "      <th>...</th>\n",
       "      <th>pinky_McpZ</th>\n",
       "      <th>pinky_PipX</th>\n",
       "      <th>pinky_PipY</th>\n",
       "      <th>pinky_PipZ</th>\n",
       "      <th>pinky_DipX</th>\n",
       "      <th>pinky_DipY</th>\n",
       "      <th>pinky_DipZ</th>\n",
       "      <th>pinky_TipX</th>\n",
       "      <th>pinky_TipY</th>\n",
       "      <th>pinky_TipZ</th>\n",
       "    </tr>\n",
       "  </thead>\n",
       "  <tbody>\n",
       "    <tr>\n",
       "      <th>536</th>\n",
       "      <td>3</td>\n",
       "      <td>-0.090626</td>\n",
       "      <td>0.037812</td>\n",
       "      <td>-0.078240</td>\n",
       "      <td>-0.071243</td>\n",
       "      <td>0.071147</td>\n",
       "      <td>-0.054067</td>\n",
       "      <td>-0.019528</td>\n",
       "      <td>0.083481</td>\n",
       "      <td>-0.034997</td>\n",
       "      <td>...</td>\n",
       "      <td>-0.082101</td>\n",
       "      <td>-0.032140</td>\n",
       "      <td>0.080200</td>\n",
       "      <td>-0.031614</td>\n",
       "      <td>-0.029167</td>\n",
       "      <td>0.053254</td>\n",
       "      <td>-0.008006</td>\n",
       "      <td>-0.028277</td>\n",
       "      <td>0.031687</td>\n",
       "      <td>-0.003401</td>\n",
       "    </tr>\n",
       "    <tr>\n",
       "      <th>465</th>\n",
       "      <td>4</td>\n",
       "      <td>-0.054763</td>\n",
       "      <td>-0.051921</td>\n",
       "      <td>-0.086791</td>\n",
       "      <td>-0.051366</td>\n",
       "      <td>-0.023837</td>\n",
       "      <td>-0.074225</td>\n",
       "      <td>-0.024701</td>\n",
       "      <td>0.031971</td>\n",
       "      <td>-0.059659</td>\n",
       "      <td>...</td>\n",
       "      <td>-0.159268</td>\n",
       "      <td>-0.096734</td>\n",
       "      <td>0.078355</td>\n",
       "      <td>-0.041301</td>\n",
       "      <td>-0.057642</td>\n",
       "      <td>0.017990</td>\n",
       "      <td>0.013704</td>\n",
       "      <td>-0.024019</td>\n",
       "      <td>0.000423</td>\n",
       "      <td>0.018500</td>\n",
       "    </tr>\n",
       "    <tr>\n",
       "      <th>129</th>\n",
       "      <td>1</td>\n",
       "      <td>-0.116947</td>\n",
       "      <td>0.111044</td>\n",
       "      <td>0.147915</td>\n",
       "      <td>-0.052679</td>\n",
       "      <td>0.103933</td>\n",
       "      <td>0.028737</td>\n",
       "      <td>-0.010302</td>\n",
       "      <td>0.087559</td>\n",
       "      <td>0.008052</td>\n",
       "      <td>...</td>\n",
       "      <td>-0.205361</td>\n",
       "      <td>0.017193</td>\n",
       "      <td>0.141904</td>\n",
       "      <td>0.034898</td>\n",
       "      <td>0.012585</td>\n",
       "      <td>-0.017250</td>\n",
       "      <td>0.070986</td>\n",
       "      <td>-0.002553</td>\n",
       "      <td>-0.049335</td>\n",
       "      <td>0.048548</td>\n",
       "    </tr>\n",
       "    <tr>\n",
       "      <th>567</th>\n",
       "      <td>3</td>\n",
       "      <td>0.061965</td>\n",
       "      <td>-0.078872</td>\n",
       "      <td>-0.159534</td>\n",
       "      <td>0.119446</td>\n",
       "      <td>-0.044869</td>\n",
       "      <td>-0.081767</td>\n",
       "      <td>0.150429</td>\n",
       "      <td>0.048133</td>\n",
       "      <td>-0.063794</td>\n",
       "      <td>...</td>\n",
       "      <td>-0.052557</td>\n",
       "      <td>0.104960</td>\n",
       "      <td>0.026131</td>\n",
       "      <td>-0.083586</td>\n",
       "      <td>0.008854</td>\n",
       "      <td>0.052333</td>\n",
       "      <td>-0.059389</td>\n",
       "      <td>-0.043955</td>\n",
       "      <td>0.037426</td>\n",
       "      <td>-0.034717</td>\n",
       "    </tr>\n",
       "    <tr>\n",
       "      <th>278</th>\n",
       "      <td>2</td>\n",
       "      <td>-0.011457</td>\n",
       "      <td>0.103192</td>\n",
       "      <td>-0.114737</td>\n",
       "      <td>0.051854</td>\n",
       "      <td>0.083922</td>\n",
       "      <td>-0.053026</td>\n",
       "      <td>0.088247</td>\n",
       "      <td>0.062441</td>\n",
       "      <td>-0.020705</td>\n",
       "      <td>...</td>\n",
       "      <td>-0.028439</td>\n",
       "      <td>0.060403</td>\n",
       "      <td>0.103046</td>\n",
       "      <td>-0.033296</td>\n",
       "      <td>-0.005324</td>\n",
       "      <td>0.070680</td>\n",
       "      <td>-0.007677</td>\n",
       "      <td>-0.017383</td>\n",
       "      <td>0.054210</td>\n",
       "      <td>0.001241</td>\n",
       "    </tr>\n",
       "    <tr>\n",
       "      <th>...</th>\n",
       "      <td>...</td>\n",
       "      <td>...</td>\n",
       "      <td>...</td>\n",
       "      <td>...</td>\n",
       "      <td>...</td>\n",
       "      <td>...</td>\n",
       "      <td>...</td>\n",
       "      <td>...</td>\n",
       "      <td>...</td>\n",
       "      <td>...</td>\n",
       "      <td>...</td>\n",
       "      <td>...</td>\n",
       "      <td>...</td>\n",
       "      <td>...</td>\n",
       "      <td>...</td>\n",
       "      <td>...</td>\n",
       "      <td>...</td>\n",
       "      <td>...</td>\n",
       "      <td>...</td>\n",
       "      <td>...</td>\n",
       "      <td>...</td>\n",
       "    </tr>\n",
       "    <tr>\n",
       "      <th>180</th>\n",
       "      <td>2</td>\n",
       "      <td>0.040972</td>\n",
       "      <td>0.092561</td>\n",
       "      <td>-0.122424</td>\n",
       "      <td>0.094557</td>\n",
       "      <td>0.038629</td>\n",
       "      <td>-0.061291</td>\n",
       "      <td>0.112231</td>\n",
       "      <td>0.003251</td>\n",
       "      <td>-0.028153</td>\n",
       "      <td>...</td>\n",
       "      <td>-0.038745</td>\n",
       "      <td>0.100103</td>\n",
       "      <td>0.066120</td>\n",
       "      <td>-0.033620</td>\n",
       "      <td>0.038465</td>\n",
       "      <td>0.055930</td>\n",
       "      <td>-0.004818</td>\n",
       "      <td>0.021370</td>\n",
       "      <td>0.048481</td>\n",
       "      <td>0.004343</td>\n",
       "    </tr>\n",
       "    <tr>\n",
       "      <th>123</th>\n",
       "      <td>1</td>\n",
       "      <td>-0.131850</td>\n",
       "      <td>0.060192</td>\n",
       "      <td>0.014668</td>\n",
       "      <td>-0.110239</td>\n",
       "      <td>0.122708</td>\n",
       "      <td>-0.021700</td>\n",
       "      <td>-0.045708</td>\n",
       "      <td>0.139837</td>\n",
       "      <td>-0.026925</td>\n",
       "      <td>...</td>\n",
       "      <td>-0.139088</td>\n",
       "      <td>-0.024655</td>\n",
       "      <td>0.149112</td>\n",
       "      <td>-0.028334</td>\n",
       "      <td>0.023939</td>\n",
       "      <td>-0.028376</td>\n",
       "      <td>0.019167</td>\n",
       "      <td>0.006859</td>\n",
       "      <td>-0.051956</td>\n",
       "      <td>0.016718</td>\n",
       "    </tr>\n",
       "    <tr>\n",
       "      <th>549</th>\n",
       "      <td>3</td>\n",
       "      <td>-0.099770</td>\n",
       "      <td>-0.037851</td>\n",
       "      <td>-0.101171</td>\n",
       "      <td>-0.096824</td>\n",
       "      <td>0.021635</td>\n",
       "      <td>-0.088285</td>\n",
       "      <td>-0.060254</td>\n",
       "      <td>0.057471</td>\n",
       "      <td>-0.064494</td>\n",
       "      <td>...</td>\n",
       "      <td>-0.217222</td>\n",
       "      <td>-0.095975</td>\n",
       "      <td>0.062871</td>\n",
       "      <td>-0.046609</td>\n",
       "      <td>-0.048956</td>\n",
       "      <td>-0.000263</td>\n",
       "      <td>-0.006142</td>\n",
       "      <td>-0.024019</td>\n",
       "      <td>-0.004762</td>\n",
       "      <td>-0.008749</td>\n",
       "    </tr>\n",
       "    <tr>\n",
       "      <th>334</th>\n",
       "      <td>2</td>\n",
       "      <td>-0.000269</td>\n",
       "      <td>0.074084</td>\n",
       "      <td>-0.210623</td>\n",
       "      <td>0.060410</td>\n",
       "      <td>0.039090</td>\n",
       "      <td>-0.108739</td>\n",
       "      <td>0.110928</td>\n",
       "      <td>0.024429</td>\n",
       "      <td>-0.058626</td>\n",
       "      <td>...</td>\n",
       "      <td>-0.089805</td>\n",
       "      <td>0.079993</td>\n",
       "      <td>0.093529</td>\n",
       "      <td>-0.067291</td>\n",
       "      <td>0.011913</td>\n",
       "      <td>0.082723</td>\n",
       "      <td>-0.034154</td>\n",
       "      <td>-0.004027</td>\n",
       "      <td>0.067878</td>\n",
       "      <td>-0.020995</td>\n",
       "    </tr>\n",
       "    <tr>\n",
       "      <th>83</th>\n",
       "      <td>0</td>\n",
       "      <td>-0.014609</td>\n",
       "      <td>-0.005788</td>\n",
       "      <td>-0.141467</td>\n",
       "      <td>0.026831</td>\n",
       "      <td>0.003850</td>\n",
       "      <td>-0.077458</td>\n",
       "      <td>0.054284</td>\n",
       "      <td>0.022121</td>\n",
       "      <td>-0.050100</td>\n",
       "      <td>...</td>\n",
       "      <td>-0.069363</td>\n",
       "      <td>0.018608</td>\n",
       "      <td>0.049439</td>\n",
       "      <td>-0.049632</td>\n",
       "      <td>-0.042738</td>\n",
       "      <td>-0.013789</td>\n",
       "      <td>-0.009220</td>\n",
       "      <td>-0.025906</td>\n",
       "      <td>-0.020377</td>\n",
       "      <td>-0.000265</td>\n",
       "    </tr>\n",
       "  </tbody>\n",
       "</table>\n",
       "<p>704 rows × 61 columns</p>\n",
       "</div>"
      ],
      "text/plain": [
       "     class  thumb_CmcX  thumb_CmcY  thumb_CmcZ  thumb_McpX  thumb_McpY  \\\n",
       "536      3   -0.090626    0.037812   -0.078240   -0.071243    0.071147   \n",
       "465      4   -0.054763   -0.051921   -0.086791   -0.051366   -0.023837   \n",
       "129      1   -0.116947    0.111044    0.147915   -0.052679    0.103933   \n",
       "567      3    0.061965   -0.078872   -0.159534    0.119446   -0.044869   \n",
       "278      2   -0.011457    0.103192   -0.114737    0.051854    0.083922   \n",
       "..     ...         ...         ...         ...         ...         ...   \n",
       "180      2    0.040972    0.092561   -0.122424    0.094557    0.038629   \n",
       "123      1   -0.131850    0.060192    0.014668   -0.110239    0.122708   \n",
       "549      3   -0.099770   -0.037851   -0.101171   -0.096824    0.021635   \n",
       "334      2   -0.000269    0.074084   -0.210623    0.060410    0.039090   \n",
       "83       0   -0.014609   -0.005788   -0.141467    0.026831    0.003850   \n",
       "\n",
       "     thumb_McpZ  thumb_IpX  thumb_IpY  thumb_IpZ  ...  pinky_McpZ  pinky_PipX  \\\n",
       "536   -0.054067  -0.019528   0.083481  -0.034997  ...   -0.082101   -0.032140   \n",
       "465   -0.074225  -0.024701   0.031971  -0.059659  ...   -0.159268   -0.096734   \n",
       "129    0.028737  -0.010302   0.087559   0.008052  ...   -0.205361    0.017193   \n",
       "567   -0.081767   0.150429   0.048133  -0.063794  ...   -0.052557    0.104960   \n",
       "278   -0.053026   0.088247   0.062441  -0.020705  ...   -0.028439    0.060403   \n",
       "..          ...        ...        ...        ...  ...         ...         ...   \n",
       "180   -0.061291   0.112231   0.003251  -0.028153  ...   -0.038745    0.100103   \n",
       "123   -0.021700  -0.045708   0.139837  -0.026925  ...   -0.139088   -0.024655   \n",
       "549   -0.088285  -0.060254   0.057471  -0.064494  ...   -0.217222   -0.095975   \n",
       "334   -0.108739   0.110928   0.024429  -0.058626  ...   -0.089805    0.079993   \n",
       "83    -0.077458   0.054284   0.022121  -0.050100  ...   -0.069363    0.018608   \n",
       "\n",
       "     pinky_PipY  pinky_PipZ  pinky_DipX  pinky_DipY  pinky_DipZ  pinky_TipX  \\\n",
       "536    0.080200   -0.031614   -0.029167    0.053254   -0.008006   -0.028277   \n",
       "465    0.078355   -0.041301   -0.057642    0.017990    0.013704   -0.024019   \n",
       "129    0.141904    0.034898    0.012585   -0.017250    0.070986   -0.002553   \n",
       "567    0.026131   -0.083586    0.008854    0.052333   -0.059389   -0.043955   \n",
       "278    0.103046   -0.033296   -0.005324    0.070680   -0.007677   -0.017383   \n",
       "..          ...         ...         ...         ...         ...         ...   \n",
       "180    0.066120   -0.033620    0.038465    0.055930   -0.004818    0.021370   \n",
       "123    0.149112   -0.028334    0.023939   -0.028376    0.019167    0.006859   \n",
       "549    0.062871   -0.046609   -0.048956   -0.000263   -0.006142   -0.024019   \n",
       "334    0.093529   -0.067291    0.011913    0.082723   -0.034154   -0.004027   \n",
       "83     0.049439   -0.049632   -0.042738   -0.013789   -0.009220   -0.025906   \n",
       "\n",
       "     pinky_TipY  pinky_TipZ  \n",
       "536    0.031687   -0.003401  \n",
       "465    0.000423    0.018500  \n",
       "129   -0.049335    0.048548  \n",
       "567    0.037426   -0.034717  \n",
       "278    0.054210    0.001241  \n",
       "..          ...         ...  \n",
       "180    0.048481    0.004343  \n",
       "123   -0.051956    0.016718  \n",
       "549   -0.004762   -0.008749  \n",
       "334    0.067878   -0.020995  \n",
       "83    -0.020377   -0.000265  \n",
       "\n",
       "[704 rows x 61 columns]"
      ]
     },
     "execution_count": 2,
     "metadata": {},
     "output_type": "execute_result"
    }
   ],
   "source": [
    "df_train = sklearn.utils.shuffle(df_train)\n",
    "df_test = sklearn.utils.shuffle(df_test)\n",
    "df_test"
   ]
  },
  {
   "cell_type": "code",
   "execution_count": 3,
   "metadata": {
    "id": "dBRYMciWjTtY"
   },
   "outputs": [],
   "source": [
    "# Put Categorical using Pandas\n",
    "df_train[\"class\"] = pd.Categorical(df_train[\"class\"])\n",
    "df_test[\"class\"] = pd.Categorical(df_test[\"class\"])\n",
    "\n",
    "# Copy Label and Feature for training\n",
    "y_train = df_train.pop(\"class\")\n",
    "x_train = df_train.copy()\n",
    "\n",
    "y_test = df_test.pop(\"class\")\n",
    "x_test = df_test.copy()"
   ]
  },
  {
   "cell_type": "code",
   "execution_count": 4,
   "metadata": {
    "id": "Nw8jlwJjMMM3"
   },
   "outputs": [],
   "source": [
    "# Copied Features turn to Array by using NumPy\n",
    "x_train = np.array(x_train)\n",
    "x_test = np.array(x_test)\n",
    "# transformerTrain = MaxAbsScaler().fit(x_train)\n",
    "# transformerTrain.transform(x_train)\n",
    "# transformerTest = MaxAbsScaler().fit(x_test)\n",
    "# transformerTest.transform(x_test)"
   ]
  },
  {
   "cell_type": "code",
   "execution_count": 5,
   "metadata": {
    "id": "KI3LgEZ4XeHV"
   },
   "outputs": [],
   "source": [
    "# Since the array shape is 1x1, we must turn it into 1x10x1 so we can feed it into the model\n",
    "x_train = np.reshape(x_train, (x_train.shape[0], x_train.shape[1] , 1))\n",
    "x_test = np.reshape(x_test, (x_test.shape[0], x_test.shape[1] , 1))\n",
    "# Number of classes according standard Indonesian Language Alphabets\n",
    "num_classes = 5\n",
    "# Using the Keras.Utils to put the label categorically \n",
    "y_train = to_categorical(y_train, num_classes)\n",
    "y_test = to_categorical(y_test, num_classes)\n"
   ]
  },
  {
   "cell_type": "code",
   "execution_count": 6,
   "metadata": {
    "colab": {
     "base_uri": "https://localhost:8080/"
    },
    "executionInfo": {
     "elapsed": 10,
     "status": "ok",
     "timestamp": 1671591089820,
     "user": {
      "displayName": "林蓬鬆",
      "userId": "10296061809598689077"
     },
     "user_tz": -480
    },
    "id": "DQiq8jQZv5tp",
    "outputId": "3aa0b661-291e-471f-a4da-0a7dc55d013f"
   },
   "outputs": [
    {
     "name": "stdout",
     "output_type": "stream",
     "text": [
      "(31522, 123, 1) (704, 60, 1) (31522, 5) (704, 5)\n"
     ]
    }
   ],
   "source": [
    "print(x_train.shape,\n",
    "x_test.shape,\n",
    "y_train.shape,\n",
    "y_test.shape)"
   ]
  },
  {
   "cell_type": "code",
   "execution_count": 7,
   "metadata": {},
   "outputs": [
    {
     "name": "stdout",
     "output_type": "stream",
     "text": [
      "(31522, 123, 1)\n"
     ]
    },
    {
     "data": {
      "text/plain": [
       "array([[[ 0.02121472],\n",
       "        [-0.10858938],\n",
       "        [-0.13115148],\n",
       "        ...,\n",
       "        [ 0.22838047],\n",
       "        [ 0.60922086],\n",
       "        [-0.07339105]],\n",
       "\n",
       "       [[ 0.10372651],\n",
       "        [-0.03456229],\n",
       "        [-0.06673892],\n",
       "        ...,\n",
       "        [        nan],\n",
       "        [        nan],\n",
       "        [        nan]],\n",
       "\n",
       "       [[ 0.05437434],\n",
       "        [ 0.06524152],\n",
       "        [-0.16349111],\n",
       "        ...,\n",
       "        [        nan],\n",
       "        [        nan],\n",
       "        [        nan]],\n",
       "\n",
       "       ...,\n",
       "\n",
       "       [[ 0.05497894],\n",
       "        [-0.05401897],\n",
       "        [-0.09179972],\n",
       "        ...,\n",
       "        [        nan],\n",
       "        [        nan],\n",
       "        [        nan]],\n",
       "\n",
       "       [[ 0.03695926],\n",
       "        [-0.1128062 ],\n",
       "        [-0.08771974],\n",
       "        ...,\n",
       "        [        nan],\n",
       "        [        nan],\n",
       "        [        nan]],\n",
       "\n",
       "       [[ 0.10620165],\n",
       "        [-0.08905351],\n",
       "        [-0.09531666],\n",
       "        ...,\n",
       "        [ 0.6038596 ],\n",
       "        [ 0.88581932],\n",
       "        [ 0.03152992]]])"
      ]
     },
     "execution_count": 7,
     "metadata": {},
     "output_type": "execute_result"
    }
   ],
   "source": [
    "print(x_train.shape)\n",
    "x_train"
   ]
  },
  {
   "cell_type": "code",
   "execution_count": 8,
   "metadata": {
    "colab": {
     "base_uri": "https://localhost:8080/"
    },
    "executionInfo": {
     "elapsed": 467,
     "status": "ok",
     "timestamp": 1671591090638,
     "user": {
      "displayName": "林蓬鬆",
      "userId": "10296061809598689077"
     },
     "user_tz": -480
    },
    "id": "m6uwBsVgXgMw",
    "outputId": "43c319a2-3189-4ec9-81e4-97a738be77ee"
   },
   "outputs": [
    {
     "name": "stdout",
     "output_type": "stream",
     "text": [
      "Metal device set to: Apple M2\n"
     ]
    },
    {
     "name": "stderr",
     "output_type": "stream",
     "text": [
      "2023-01-05 16:43:47.392626: I tensorflow/core/common_runtime/pluggable_device/pluggable_device_factory.cc:305] Could not identify NUMA node of platform GPU ID 0, defaulting to 0. Your kernel may not have been built with NUMA support.\n",
      "2023-01-05 16:43:47.393104: I tensorflow/core/common_runtime/pluggable_device/pluggable_device_factory.cc:271] Created TensorFlow device (/job:localhost/replica:0/task:0/device:GPU:0 with 0 MB memory) -> physical PluggableDevice (device: 0, name: METAL, pci bus id: <undefined>)\n"
     ]
    },
    {
     "name": "stdout",
     "output_type": "stream",
     "text": [
      "Model: \"sequential\"\n",
      "_________________________________________________________________\n",
      " Layer (type)                Output Shape              Param #   \n",
      "=================================================================\n",
      " conv1d (Conv1D)             (None, 123, 32)           256       \n",
      "                                                                 \n",
      " conv1d_1 (Conv1D)           (None, 123, 32)           7200      \n",
      "                                                                 \n",
      " max_pooling1d (MaxPooling1D  (None, 61, 32)           0         \n",
      " )                                                               \n",
      "                                                                 \n",
      " conv1d_2 (Conv1D)           (None, 61, 64)            14400     \n",
      "                                                                 \n",
      " conv1d_3 (Conv1D)           (None, 61, 64)            28736     \n",
      "                                                                 \n",
      " max_pooling1d_1 (MaxPooling  (None, 30, 64)           0         \n",
      " 1D)                                                             \n",
      "                                                                 \n",
      " conv1d_4 (Conv1D)           (None, 30, 128)           57472     \n",
      "                                                                 \n",
      " conv1d_5 (Conv1D)           (None, 30, 128)           114816    \n",
      "                                                                 \n",
      " max_pooling1d_2 (MaxPooling  (None, 15, 128)          0         \n",
      " 1D)                                                             \n",
      "                                                                 \n",
      " conv1d_6 (Conv1D)           (None, 15, 256)           229632    \n",
      "                                                                 \n",
      " conv1d_7 (Conv1D)           (None, 15, 256)           459008    \n",
      "                                                                 \n",
      " max_pooling1d_3 (MaxPooling  (None, 7, 256)           0         \n",
      " 1D)                                                             \n",
      "                                                                 \n",
      " dropout (Dropout)           (None, 7, 256)            0         \n",
      "                                                                 \n",
      " flatten (Flatten)           (None, 1792)              0         \n",
      "                                                                 \n",
      " dense (Dense)               (None, 512)               918016    \n",
      "                                                                 \n",
      " dense_1 (Dense)             (None, 5)                 2565      \n",
      "                                                                 \n",
      "=================================================================\n",
      "Total params: 1,832,101\n",
      "Trainable params: 1,832,101\n",
      "Non-trainable params: 0\n",
      "_________________________________________________________________\n"
     ]
    }
   ],
   "source": [
    "# One Dimensional Convolutional Neural Network model, Train will be feed to 1 Dimension Convolutional Neural Network\n",
    "model = tf.keras.models.Sequential([\n",
    "    tf.keras.layers.Conv1D(filters=32, kernel_size=7, strides=1, padding=\"causal\", activation=\"relu\", input_shape=x_train.shape[1:3]),\n",
    "    tf.keras.layers.Conv1D(filters=32, kernel_size=7, strides=1, padding=\"causal\", activation=\"relu\"),\n",
    "    tf.keras.layers.MaxPooling1D(pool_size=2),\n",
    "    tf.keras.layers.Conv1D(filters=64, kernel_size=7, strides=1, padding=\"causal\", activation=\"relu\"),\n",
    "    tf.keras.layers.Conv1D(filters=64, kernel_size=7, strides=1, padding=\"causal\", activation=\"relu\"),\n",
    "    tf.keras.layers.MaxPooling1D(pool_size=2),\n",
    "    tf.keras.layers.Conv1D(filters=128, kernel_size=7, strides=1, padding=\"causal\", activation=\"relu\"),\n",
    "    tf.keras.layers.Conv1D(filters=128, kernel_size=7, strides=1, padding=\"causal\", activation=\"relu\"),\n",
    "    tf.keras.layers.MaxPooling1D(pool_size=2),\n",
    "    tf.keras.layers.Conv1D(filters=256, kernel_size=7, strides=1, padding=\"causal\", activation=\"relu\"),\n",
    "    tf.keras.layers.Conv1D(filters=256, kernel_size=7, strides=1, padding=\"causal\", activation=\"relu\"),\n",
    "    tf.keras.layers.MaxPooling1D(pool_size=2),\n",
    "    tf.keras.layers.Dropout(rate=0.5),\n",
    "    # Flatten the results to feed into a DNN\n",
    "    tf.keras.layers.Flatten(),\n",
    "    # 512 neuron hidden layer\n",
    "    tf.keras.layers.Dense(512, activation='relu'), \n",
    "    tf.keras.layers.Dense(num_classes, activation='softmax')])\n",
    "model.compile(loss = 'categorical_crossentropy', optimizer='adam', metrics=['accuracy'])\n",
    "model.summary()"
   ]
  },
  {
   "cell_type": "code",
   "execution_count": 9,
   "metadata": {
    "id": "rYXVqSA7RkSE"
   },
   "outputs": [],
   "source": [
    "earlystop_callback = EarlyStopping(\n",
    "  monitor='val_loss', min_delta=0.001,\n",
    "  patience=10, verbose=1, mode='min', restore_best_weights=True)"
   ]
  },
  {
   "cell_type": "code",
   "execution_count": 10,
   "metadata": {
    "colab": {
     "base_uri": "https://localhost:8080/"
    },
    "executionInfo": {
     "elapsed": 20012,
     "status": "ok",
     "timestamp": 1671591111305,
     "user": {
      "displayName": "林蓬鬆",
      "userId": "10296061809598689077"
     },
     "user_tz": -480
    },
    "id": "mw_0WDvVu5FP",
    "outputId": "05928f64-9722-4c44-84e3-74c18f03e60f"
   },
   "outputs": [
    {
     "name": "stdout",
     "output_type": "stream",
     "text": [
      "Epoch 1/100\n"
     ]
    },
    {
     "name": "stderr",
     "output_type": "stream",
     "text": [
      "2023-01-05 16:43:54.072122: W tensorflow/core/platform/profile_utils/cpu_utils.cc:128] Failed to get CPU frequency: 0 Hz\n",
      "2023-01-05 16:43:54.620202: I tensorflow/core/grappler/optimizers/custom_graph_optimizer_registry.cc:113] Plugin optimizer for device_type GPU is enabled.\n"
     ]
    },
    {
     "name": "stdout",
     "output_type": "stream",
     "text": [
      "62/62 [==============================] - ETA: 0s - loss: 1.5539 - accuracy: 0.2650"
     ]
    },
    {
     "ename": "ValueError",
     "evalue": "in user code:\n\n    File \"/Users/waynewang/miniconda/lib/python3.9/site-packages/keras/engine/training.py\", line 1557, in test_function  *\n        return step_function(self, iterator)\n    File \"/Users/waynewang/miniconda/lib/python3.9/site-packages/keras/engine/training.py\", line 1546, in step_function  **\n        outputs = model.distribute_strategy.run(run_step, args=(data,))\n    File \"/Users/waynewang/miniconda/lib/python3.9/site-packages/keras/engine/training.py\", line 1535, in run_step  **\n        outputs = model.test_step(data)\n    File \"/Users/waynewang/miniconda/lib/python3.9/site-packages/keras/engine/training.py\", line 1499, in test_step\n        y_pred = self(x, training=False)\n    File \"/Users/waynewang/miniconda/lib/python3.9/site-packages/keras/utils/traceback_utils.py\", line 67, in error_handler\n        raise e.with_traceback(filtered_tb) from None\n    File \"/Users/waynewang/miniconda/lib/python3.9/site-packages/keras/engine/input_spec.py\", line 264, in assert_input_compatibility\n        raise ValueError(f'Input {input_index} of layer \"{layer_name}\" is '\n\n    ValueError: Input 0 of layer \"sequential\" is incompatible with the layer: expected shape=(None, 123, 1), found shape=(None, 60, 1)\n",
     "output_type": "error",
     "traceback": [
      "\u001b[0;31m---------------------------------------------------------------------------\u001b[0m",
      "\u001b[0;31mValueError\u001b[0m                                Traceback (most recent call last)",
      "Cell \u001b[0;32mIn [10], line 2\u001b[0m\n\u001b[1;32m      1\u001b[0m \u001b[38;5;66;03m#Train the Model\u001b[39;00m\n\u001b[0;32m----> 2\u001b[0m \u001b[43mmodel\u001b[49m\u001b[38;5;241;43m.\u001b[39;49m\u001b[43mfit\u001b[49m\u001b[43m(\u001b[49m\u001b[43mx_train\u001b[49m\u001b[43m,\u001b[49m\u001b[43m \u001b[49m\u001b[43my_train\u001b[49m\u001b[43m,\u001b[49m\u001b[43m \u001b[49m\u001b[43mepochs\u001b[49m\u001b[38;5;241;43m=\u001b[39;49m\u001b[38;5;241;43m100\u001b[39;49m\u001b[43m,\u001b[49m\u001b[43m \u001b[49m\u001b[43mbatch_size\u001b[49m\u001b[38;5;241;43m=\u001b[39;49m\u001b[38;5;241;43m512\u001b[39;49m\u001b[43m,\u001b[49m\u001b[43m \u001b[49m\u001b[43mcallbacks\u001b[49m\u001b[38;5;241;43m=\u001b[39;49m\u001b[43m[\u001b[49m\u001b[43mearlystop_callback\u001b[49m\u001b[43m]\u001b[49m\u001b[43m,\u001b[49m\u001b[43m \u001b[49m\u001b[43mvalidation_data\u001b[49m\u001b[38;5;241;43m=\u001b[39;49m\u001b[43m(\u001b[49m\u001b[43mx_test\u001b[49m\u001b[43m,\u001b[49m\u001b[43m \u001b[49m\u001b[43my_test\u001b[49m\u001b[43m)\u001b[49m\u001b[43m)\u001b[49m\n",
      "File \u001b[0;32m~/miniconda/lib/python3.9/site-packages/keras/utils/traceback_utils.py:67\u001b[0m, in \u001b[0;36mfilter_traceback.<locals>.error_handler\u001b[0;34m(*args, **kwargs)\u001b[0m\n\u001b[1;32m     65\u001b[0m \u001b[38;5;28;01mexcept\u001b[39;00m \u001b[38;5;167;01mException\u001b[39;00m \u001b[38;5;28;01mas\u001b[39;00m e:  \u001b[38;5;66;03m# pylint: disable=broad-except\u001b[39;00m\n\u001b[1;32m     66\u001b[0m   filtered_tb \u001b[38;5;241m=\u001b[39m _process_traceback_frames(e\u001b[38;5;241m.\u001b[39m__traceback__)\n\u001b[0;32m---> 67\u001b[0m   \u001b[38;5;28;01mraise\u001b[39;00m e\u001b[38;5;241m.\u001b[39mwith_traceback(filtered_tb) \u001b[38;5;28;01mfrom\u001b[39;00m \u001b[38;5;28mNone\u001b[39m\n\u001b[1;32m     68\u001b[0m \u001b[38;5;28;01mfinally\u001b[39;00m:\n\u001b[1;32m     69\u001b[0m   \u001b[38;5;28;01mdel\u001b[39;00m filtered_tb\n",
      "File \u001b[0;32m/var/folders/_5/t6q_69n56z50g7yzq1zzrpc00000gn/T/__autograph_generated_filezna1u_vd.py:15\u001b[0m, in \u001b[0;36mouter_factory.<locals>.inner_factory.<locals>.tf__test_function\u001b[0;34m(iterator)\u001b[0m\n\u001b[1;32m     13\u001b[0m \u001b[38;5;28;01mtry\u001b[39;00m:\n\u001b[1;32m     14\u001b[0m     do_return \u001b[38;5;241m=\u001b[39m \u001b[38;5;28;01mTrue\u001b[39;00m\n\u001b[0;32m---> 15\u001b[0m     retval_ \u001b[38;5;241m=\u001b[39m ag__\u001b[38;5;241m.\u001b[39mconverted_call(ag__\u001b[38;5;241m.\u001b[39mld(step_function), (ag__\u001b[38;5;241m.\u001b[39mld(\u001b[38;5;28mself\u001b[39m), ag__\u001b[38;5;241m.\u001b[39mld(iterator)), \u001b[38;5;28;01mNone\u001b[39;00m, fscope)\n\u001b[1;32m     16\u001b[0m \u001b[38;5;28;01mexcept\u001b[39;00m:\n\u001b[1;32m     17\u001b[0m     do_return \u001b[38;5;241m=\u001b[39m \u001b[38;5;28;01mFalse\u001b[39;00m\n",
      "\u001b[0;31mValueError\u001b[0m: in user code:\n\n    File \"/Users/waynewang/miniconda/lib/python3.9/site-packages/keras/engine/training.py\", line 1557, in test_function  *\n        return step_function(self, iterator)\n    File \"/Users/waynewang/miniconda/lib/python3.9/site-packages/keras/engine/training.py\", line 1546, in step_function  **\n        outputs = model.distribute_strategy.run(run_step, args=(data,))\n    File \"/Users/waynewang/miniconda/lib/python3.9/site-packages/keras/engine/training.py\", line 1535, in run_step  **\n        outputs = model.test_step(data)\n    File \"/Users/waynewang/miniconda/lib/python3.9/site-packages/keras/engine/training.py\", line 1499, in test_step\n        y_pred = self(x, training=False)\n    File \"/Users/waynewang/miniconda/lib/python3.9/site-packages/keras/utils/traceback_utils.py\", line 67, in error_handler\n        raise e.with_traceback(filtered_tb) from None\n    File \"/Users/waynewang/miniconda/lib/python3.9/site-packages/keras/engine/input_spec.py\", line 264, in assert_input_compatibility\n        raise ValueError(f'Input {input_index} of layer \"{layer_name}\" is '\n\n    ValueError: Input 0 of layer \"sequential\" is incompatible with the layer: expected shape=(None, 123, 1), found shape=(None, 60, 1)\n"
     ]
    }
   ],
   "source": [
    "#Train the Model\n",
    "model.fit(x_train, y_train, epochs=100, batch_size=512, callbacks=[earlystop_callback], validation_data=(x_test, y_test))"
   ]
  },
  {
   "cell_type": "code",
   "execution_count": 10,
   "metadata": {
    "colab": {
     "base_uri": "https://localhost:8080/"
    },
    "executionInfo": {
     "elapsed": 16,
     "status": "ok",
     "timestamp": 1671591111305,
     "user": {
      "displayName": "林蓬鬆",
      "userId": "10296061809598689077"
     },
     "user_tz": -480
    },
    "id": "traUTMskYNjA",
    "outputId": "3830f53f-6e19-4e03-c60d-3a189c752c21"
   },
   "outputs": [],
   "source": [
    "# df_pic = pd.read_csv('output_pic2.csv', encoding='utf-8')\n",
    "# df_pic = sklearn.utils.shuffle(df_pic)\n",
    "# label2 = df_pic[\"class\"]\n",
    "# data2 = df_pic.iloc[:,1:]\n",
    "# data2n = np.array(data2)\n",
    "# label2n = np.array(label2)\n",
    "# label2n  = np_utils.to_categorical(label2n)\n",
    "# data2n = np.reshape(data2n, (data2n.shape[0], data2n.shape[1]//3, 3))\n",
    "# print(data2n.shape, label2n.shape)"
   ]
  },
  {
   "cell_type": "code",
   "execution_count": 11,
   "metadata": {
    "colab": {
     "base_uri": "https://localhost:8080/"
    },
    "executionInfo": {
     "elapsed": 2582,
     "status": "ok",
     "timestamp": 1671591113873,
     "user": {
      "displayName": "林蓬鬆",
      "userId": "10296061809598689077"
     },
     "user_tz": -480
    },
    "id": "vxAdiudKofZZ",
    "outputId": "ce69cd96-40a2-4fe0-8daa-e27c4bce2c02"
   },
   "outputs": [],
   "source": [
    "# model.evaluate(x=data2n, y=label2n, verbose=1)"
   ]
  },
  {
   "cell_type": "code",
   "execution_count": 93,
   "metadata": {
    "id": "egqOh9bO8nBh"
   },
   "outputs": [],
   "source": [
    "model.save(\"model0104vec.h5\")"
   ]
  },
  {
   "cell_type": "code",
   "execution_count": 13,
   "metadata": {
    "id": "7KvaiRqYZEko"
   },
   "outputs": [],
   "source": [
    "# x_train"
   ]
  },
  {
   "cell_type": "code",
   "execution_count": 104,
   "metadata": {},
   "outputs": [
    {
     "name": "stderr",
     "output_type": "stream",
     "text": [
      "2023-01-05 15:04:03.233063: I tensorflow/core/grappler/optimizers/custom_graph_optimizer_registry.cc:113] Plugin optimizer for device_type GPU is enabled.\n"
     ]
    },
    {
     "name": "stdout",
     "output_type": "stream",
     "text": [
      "22/22 [==============================] - 0s 6ms/step\n"
     ]
    },
    {
     "data": {
      "text/plain": [
       "array([[1.2194171e-03, 1.2075614e-06, 3.2129459e-04, 4.4492530e-03,\n",
       "        9.9400890e-01],\n",
       "       [9.8405021e-01, 3.2079242e-07, 6.6266007e-06, 2.5847691e-04,\n",
       "        1.5684389e-02],\n",
       "       [9.7542920e-04, 9.3618548e-03, 9.0725356e-01, 6.5139748e-02,\n",
       "        1.7269431e-02],\n",
       "       ...,\n",
       "       [2.1919401e-04, 9.9507117e-01, 1.1843396e-03, 3.2797616e-03,\n",
       "        2.4550740e-04],\n",
       "       [2.0852285e-03, 4.0775235e-06, 7.8407733e-04, 4.5073882e-02,\n",
       "        9.5205271e-01],\n",
       "       [2.5079098e-02, 2.7709629e-04, 1.3189479e-02, 1.5489985e-01,\n",
       "        8.0655450e-01]], dtype=float32)"
      ]
     },
     "execution_count": 104,
     "metadata": {},
     "output_type": "execute_result"
    }
   ],
   "source": [
    "y_pred = model.predict(x_test)\n",
    "y_pred"
   ]
  },
  {
   "cell_type": "code",
   "execution_count": 105,
   "metadata": {},
   "outputs": [
    {
     "data": {
      "text/plain": [
       "array([4, 0, 2, 0, 4, 0, 4, 0, 1, 3, 1, 4, 2, 4, 4, 2, 4, 2, 2, 3, 4, 2,\n",
       "       4, 4, 4, 3, 4, 4, 3, 1, 2, 0, 0, 2, 3, 4, 4, 2, 4, 1, 4, 4, 4, 2,\n",
       "       3, 3, 2, 2, 1, 3, 2, 3, 2, 2, 3, 4, 1, 4, 2, 4, 3, 4, 2, 4, 4, 4,\n",
       "       2, 3, 4, 4, 0, 2, 4, 3, 4, 3, 0, 4, 4, 0, 2, 2, 3, 0, 2, 2, 0, 4,\n",
       "       4, 2, 2, 4, 2, 4, 2, 4, 4, 4, 3, 4, 1, 3, 3, 2, 2, 2, 2, 4, 3, 2,\n",
       "       4, 4, 1, 4, 1, 4, 3, 3, 0, 2, 4, 3, 3, 2, 3, 1, 3, 3, 2, 3, 2, 4,\n",
       "       4, 4, 2, 1, 3, 4, 2, 2, 2, 4, 0, 3, 4, 0, 1, 4, 3, 4, 3, 2, 3, 0,\n",
       "       2, 3, 4, 3, 2, 1, 3, 4, 2, 4, 1, 4, 4, 2, 4, 2, 0, 1, 4, 0, 4, 4,\n",
       "       3, 4, 2, 4, 4, 4, 2, 4, 3, 3, 3, 2, 4, 4, 4, 2, 3, 1, 2, 0, 3, 2,\n",
       "       2, 2, 2, 2, 0, 4, 2, 4, 4, 1, 1, 0, 3, 0, 4, 0, 2, 4, 2, 3, 4, 3,\n",
       "       4, 2, 3, 2, 4, 4, 2, 1, 1, 3, 2, 4, 1, 3, 4, 2, 4, 0, 3, 2, 1, 2,\n",
       "       3, 4, 2, 0, 4, 4, 3, 4, 2, 3, 1, 4, 0, 0, 4, 4, 3, 4, 3, 3, 0, 3,\n",
       "       4, 4, 4, 4, 4, 2, 2, 4, 3, 1, 4, 2, 2, 3, 3, 1, 4, 4, 4, 1, 1, 2,\n",
       "       3, 0, 4, 0, 1, 4, 4, 1, 4, 1, 2, 4, 3, 4, 4, 4, 2, 4, 2, 3, 1, 3,\n",
       "       4, 1, 1, 3, 0, 2, 2, 3, 2, 3, 4, 0, 4, 4, 3, 3, 2, 3, 2, 0, 1, 3,\n",
       "       2, 4, 2, 0, 4, 3, 4, 3, 4, 4, 1, 2, 4, 4, 2, 2, 2, 3, 4, 1, 0, 2,\n",
       "       0, 3, 4, 4, 1, 2, 1, 4, 4, 4, 2, 4, 4, 0, 0, 1, 2, 0, 4, 3, 4, 3,\n",
       "       2, 4, 2, 4, 3, 1, 4, 2, 1, 4, 4, 2, 0, 2, 4, 4, 2, 2, 3, 2, 0, 3,\n",
       "       2, 3, 2, 3, 4, 2, 1, 0, 2, 1, 0, 4, 3, 2, 3, 2, 3, 4, 4, 4, 4, 3,\n",
       "       3, 1, 4, 1, 0, 4, 0, 4, 2, 2, 4, 1, 4, 2, 4, 0, 4, 3, 3, 3, 3, 2,\n",
       "       4, 2, 2, 3, 4, 0, 4, 2, 0, 4, 0, 1, 1, 3, 2, 0, 3, 1, 2, 3, 2, 3,\n",
       "       2, 3, 4, 2, 3, 4, 4, 4, 4, 2, 2, 4, 3, 2, 2, 4, 2, 3, 4, 2, 4, 4,\n",
       "       3, 4, 2, 1, 1, 3, 4, 4, 0, 2, 2, 4, 3, 4, 2, 4, 2, 4, 0, 3, 2, 0,\n",
       "       1, 0, 3, 3, 4, 2, 4, 4, 4, 3, 3, 2, 4, 4, 1, 4, 4, 1, 2, 3, 2, 2,\n",
       "       4, 4, 2, 0, 2, 2, 3, 2, 4, 1, 4, 3, 4, 4, 3, 2, 2, 4, 4, 4, 3, 1,\n",
       "       2, 1, 4, 2, 1, 1, 2, 4, 4, 2, 3, 4, 4, 4, 4, 0, 4, 1, 3, 4, 4, 2,\n",
       "       0, 3, 4, 4, 4, 3, 3, 3, 4, 3, 4, 2, 2, 2, 2, 2, 4, 4, 4, 2, 1, 1,\n",
       "       0, 3, 2, 1, 2, 1, 4, 2, 3, 4, 3, 4, 1, 2, 3, 1, 2, 0, 4, 0, 4, 4,\n",
       "       3, 2, 4, 4, 0, 1, 2, 0, 4, 1, 0, 3, 2, 4, 2, 4, 4, 3, 0, 1, 4, 3,\n",
       "       4, 1, 1, 4, 4, 3, 3, 2, 3, 4, 0, 3, 4, 3, 4, 4, 1, 4, 4, 2, 4, 3,\n",
       "       0, 0, 4, 3, 3, 4, 4, 4, 4, 4, 1, 1, 2, 2, 4, 4, 2, 2, 4, 0, 2, 4,\n",
       "       4, 4, 2, 4, 3, 4, 2, 3, 3, 3, 4, 4, 0, 3, 0, 4, 0, 4, 4, 1, 4, 4])"
      ]
     },
     "execution_count": 105,
     "metadata": {},
     "output_type": "execute_result"
    }
   ],
   "source": [
    "y_pred = y_pred.argmax(axis=1)\n",
    "y_test = y_test.argmax(axis=1)\n",
    "y_pred"
   ]
  },
  {
   "cell_type": "code",
   "execution_count": 106,
   "metadata": {},
   "outputs": [],
   "source": [
    "from sklearn.metrics import confusion_matrix\n",
    "from sklearn.metrics import plot_confusion_matrix"
   ]
  },
  {
   "cell_type": "code",
   "execution_count": 107,
   "metadata": {},
   "outputs": [
    {
     "data": {
      "text/plain": [
       "array([[ 60,   0,   1,   1,  25],\n",
       "       [  1,  73,  12,   0,   3],\n",
       "       [  0,   1, 145,  14,  14],\n",
       "       [  1,   0,   2, 122,  42],\n",
       "       [  8,   1,   9,   2, 167]])"
      ]
     },
     "execution_count": 107,
     "metadata": {},
     "output_type": "execute_result"
    }
   ],
   "source": [
    "y_test\n",
    "confusion_matrix(y_test, y_pred)"
   ]
  },
  {
   "cell_type": "code",
   "execution_count": 108,
   "metadata": {},
   "outputs": [],
   "source": [
    "# plot_confusion_matrix(model, x_test, y_test)"
   ]
  },
  {
   "cell_type": "code",
   "execution_count": 109,
   "metadata": {},
   "outputs": [],
   "source": [
    "class estimator:\n",
    "  _estimator_type = ''\n",
    "  classes_=[]\n",
    "  def __init__(self, model, classes):\n",
    "    self.model = model\n",
    "    self._estimator_type = 'classifier'\n",
    "    self.classes_ = classes\n",
    "  def predict(self, X):\n",
    "    y_prob= self.model.predict(X)\n",
    "    y_pred = y_prob.argmax(axis=1)\n",
    "    return y_pred\n",
    "\n",
    "classifier = estimator(model, [0,1,2,3,4])"
   ]
  },
  {
   "cell_type": "code",
   "execution_count": 110,
   "metadata": {},
   "outputs": [],
   "source": [
    "# plot_confusion_matrix(model, x_test, y_test)"
   ]
  },
  {
   "cell_type": "code",
   "execution_count": 111,
   "metadata": {},
   "outputs": [
    {
     "name": "stdout",
     "output_type": "stream",
     "text": [
      "22/22 [==============================] - 0s 4ms/step\n"
     ]
    },
    {
     "name": "stderr",
     "output_type": "stream",
     "text": [
      "/Users/waynewang/miniconda/lib/python3.9/site-packages/sklearn/utils/deprecation.py:87: FutureWarning: Function plot_confusion_matrix is deprecated; Function `plot_confusion_matrix` is deprecated in 1.0 and will be removed in 1.2. Use one of the class methods: ConfusionMatrixDisplay.from_predictions or ConfusionMatrixDisplay.from_estimator.\n",
      "  warnings.warn(msg, category=FutureWarning)\n"
     ]
    },
    {
     "data": {
      "text/plain": [
       "<sklearn.metrics._plot.confusion_matrix.ConfusionMatrixDisplay at 0x3450245e0>"
      ]
     },
     "execution_count": 111,
     "metadata": {},
     "output_type": "execute_result"
    },
    {
     "data": {
      "image/png": "[encoded data removed]",
      "text/plain": [
       "<Figure size 640x480 with 2 Axes>"
      ]
     },
     "metadata": {},
     "output_type": "display_data"
    }
   ],
   "source": [
    "plot_confusion_matrix(estimator=classifier, X = x_test, y_true = y_test)\n"
   ]
  }
 ],
 "metadata": {
  "accelerator": "GPU",
  "colab": {
   "authorship_tag": "ABX9TyPjwD92eZBVe56ms1QNu02S",
   "mount_file_id": "1WyH2MQsL_41b98PkshqN-PhRHSYrtIV3",
   "provenance": []
  },
  "gpuClass": "standard",
  "kernelspec": {
   "display_name": "Python 3 (ipykernel)",
   "language": "python",
   "name": "python3"
  },
  "language_info": {
   "codemirror_mode": {
    "name": "ipython",
    "version": 3
   },
   "file_extension": ".py",
   "mimetype": "text/x-python",
   "name": "python",
   "nbconvert_exporter": "python",
   "pygments_lexer": "ipython3",
   "version": "3.9.12"
  }
 },
 "nbformat": 4,
 "nbformat_minor": 4
}

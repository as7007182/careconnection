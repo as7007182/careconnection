{
 "cells": [
  {
   "cell_type": "code",
   "execution_count": 9,
   "metadata": {
    "id": "aowDORZemee2"
   },
   "outputs": [],
   "source": [
    "import pandas as pd\n",
    "import numpy as np\n",
    "import tensorflow as tf\n",
    "import os\n",
    "import csv\n",
    "import cv2 as cv\n",
    "import matplotlib.pyplot as plt\n",
    "import matplotlib.image as mpimg\n",
    "from keras.utils import to_categorical\n",
    "import sklearn\n",
    "from keras.utils import np_utils\n",
    "from keras.callbacks import EarlyStopping\n",
    "from sklearn.preprocessing import MaxAbsScaler\n",
    "\n",
    "\n",
    "# Read CSV file for Training the model using Pandas\n",
    "df_train = pd.read_csv(\"CV1220_2fps.csv\", header=0)\n",
    "# df_train2 = pd.read_csv(\"outputnew1_2fps.csv\", header=0)\n",
    "\n",
    "# Read CSV file for Validation or Testing the Model using Pandas\n",
    "df_test = pd.read_csv(\"test_data29.csv\", header=0)\n",
    "\n",
    "# df_train = pd.concat([df_train, df_train2], ignore_index=True)"
   ]
  },
  {
   "cell_type": "code",
   "execution_count": 10,
   "metadata": {
    "colab": {
     "base_uri": "https://localhost:8080/",
     "height": 488
    },
    "executionInfo": {
     "elapsed": 4,
     "status": "ok",
     "timestamp": 1671591089420,
     "user": {
      "displayName": "林蓬鬆",
      "userId": "10296061809598689077"
     },
     "user_tz": -480
    },
    "id": "E0-cJzrmkFot",
    "outputId": "8a3db740-e4e1-4429-91e0-c92a68c27121"
   },
   "outputs": [
    {
     "data": {
      "text/html": [
       "<div>\n",
       "<style scoped>\n",
       "    .dataframe tbody tr th:only-of-type {\n",
       "        vertical-align: middle;\n",
       "    }\n",
       "\n",
       "    .dataframe tbody tr th {\n",
       "        vertical-align: top;\n",
       "    }\n",
       "\n",
       "    .dataframe thead th {\n",
       "        text-align: right;\n",
       "    }\n",
       "</style>\n",
       "<table border=\"1\" class=\"dataframe\">\n",
       "  <thead>\n",
       "    <tr style=\"text-align: right;\">\n",
       "      <th></th>\n",
       "      <th>class</th>\n",
       "      <th>thumb_CmcX</th>\n",
       "      <th>thumb_CmcY</th>\n",
       "      <th>thumb_CmcZ</th>\n",
       "      <th>thumb_McpX</th>\n",
       "      <th>thumb_McpY</th>\n",
       "      <th>thumb_McpZ</th>\n",
       "      <th>thumb_IpX</th>\n",
       "      <th>thumb_IpY</th>\n",
       "      <th>thumb_IpZ</th>\n",
       "      <th>...</th>\n",
       "      <th>pinkyMcpZ</th>\n",
       "      <th>pinkyPipX</th>\n",
       "      <th>pinkyPipY</th>\n",
       "      <th>pinkyPipZ</th>\n",
       "      <th>pinkyDipX</th>\n",
       "      <th>pinkyDipY</th>\n",
       "      <th>pinkyDipZ</th>\n",
       "      <th>pinkyTipX</th>\n",
       "      <th>pinkyTipY</th>\n",
       "      <th>pinkyTipZ</th>\n",
       "    </tr>\n",
       "  </thead>\n",
       "  <tbody>\n",
       "    <tr>\n",
       "      <th>196</th>\n",
       "      <td>2</td>\n",
       "      <td>-0.030002</td>\n",
       "      <td>0.077437</td>\n",
       "      <td>-0.061635</td>\n",
       "      <td>0.022917</td>\n",
       "      <td>0.079914</td>\n",
       "      <td>-0.047995</td>\n",
       "      <td>0.047444</td>\n",
       "      <td>0.079301</td>\n",
       "      <td>-0.030889</td>\n",
       "      <td>...</td>\n",
       "      <td>-0.110354</td>\n",
       "      <td>0.779766</td>\n",
       "      <td>0.349136</td>\n",
       "      <td>-0.133741</td>\n",
       "      <td>0.768725</td>\n",
       "      <td>0.399629</td>\n",
       "      <td>-0.133776</td>\n",
       "      <td>0.743822</td>\n",
       "      <td>0.426409</td>\n",
       "      <td>-0.131886</td>\n",
       "    </tr>\n",
       "    <tr>\n",
       "      <th>595</th>\n",
       "      <td>3</td>\n",
       "      <td>-0.047275</td>\n",
       "      <td>-0.000454</td>\n",
       "      <td>-0.066009</td>\n",
       "      <td>-0.046599</td>\n",
       "      <td>0.029514</td>\n",
       "      <td>-0.052516</td>\n",
       "      <td>-0.045661</td>\n",
       "      <td>0.044531</td>\n",
       "      <td>-0.036573</td>\n",
       "      <td>...</td>\n",
       "      <td>-0.119631</td>\n",
       "      <td>0.504373</td>\n",
       "      <td>0.544085</td>\n",
       "      <td>-0.153491</td>\n",
       "      <td>0.454341</td>\n",
       "      <td>0.568482</td>\n",
       "      <td>-0.165566</td>\n",
       "      <td>0.409534</td>\n",
       "      <td>0.574560</td>\n",
       "      <td>-0.170927</td>\n",
       "    </tr>\n",
       "    <tr>\n",
       "      <th>94</th>\n",
       "      <td>1</td>\n",
       "      <td>0.008283</td>\n",
       "      <td>0.150657</td>\n",
       "      <td>0.005010</td>\n",
       "      <td>0.073087</td>\n",
       "      <td>0.111326</td>\n",
       "      <td>0.005363</td>\n",
       "      <td>0.089465</td>\n",
       "      <td>0.072110</td>\n",
       "      <td>0.018535</td>\n",
       "      <td>...</td>\n",
       "      <td>0.007006</td>\n",
       "      <td>0.586089</td>\n",
       "      <td>0.367530</td>\n",
       "      <td>0.046167</td>\n",
       "      <td>0.557960</td>\n",
       "      <td>0.400607</td>\n",
       "      <td>0.078779</td>\n",
       "      <td>0.524909</td>\n",
       "      <td>0.399525</td>\n",
       "      <td>0.096652</td>\n",
       "    </tr>\n",
       "    <tr>\n",
       "      <th>368</th>\n",
       "      <td>3</td>\n",
       "      <td>-0.073477</td>\n",
       "      <td>0.081144</td>\n",
       "      <td>-0.156105</td>\n",
       "      <td>-0.023578</td>\n",
       "      <td>0.094049</td>\n",
       "      <td>-0.099359</td>\n",
       "      <td>0.035587</td>\n",
       "      <td>0.081268</td>\n",
       "      <td>-0.062508</td>\n",
       "      <td>...</td>\n",
       "      <td>-0.147938</td>\n",
       "      <td>0.749469</td>\n",
       "      <td>0.685404</td>\n",
       "      <td>-0.199849</td>\n",
       "      <td>0.682880</td>\n",
       "      <td>0.723354</td>\n",
       "      <td>-0.207604</td>\n",
       "      <td>0.631107</td>\n",
       "      <td>0.721244</td>\n",
       "      <td>-0.209051</td>\n",
       "    </tr>\n",
       "    <tr>\n",
       "      <th>8</th>\n",
       "      <td>0</td>\n",
       "      <td>0.054402</td>\n",
       "      <td>0.031386</td>\n",
       "      <td>-0.196867</td>\n",
       "      <td>0.099686</td>\n",
       "      <td>-0.019145</td>\n",
       "      <td>-0.068689</td>\n",
       "      <td>0.098577</td>\n",
       "      <td>-0.017558</td>\n",
       "      <td>-0.025890</td>\n",
       "      <td>...</td>\n",
       "      <td>0.061749</td>\n",
       "      <td>0.697626</td>\n",
       "      <td>0.434066</td>\n",
       "      <td>0.005759</td>\n",
       "      <td>0.631481</td>\n",
       "      <td>0.470204</td>\n",
       "      <td>-0.013373</td>\n",
       "      <td>0.585807</td>\n",
       "      <td>0.451568</td>\n",
       "      <td>-0.014148</td>\n",
       "    </tr>\n",
       "    <tr>\n",
       "      <th>...</th>\n",
       "      <td>...</td>\n",
       "      <td>...</td>\n",
       "      <td>...</td>\n",
       "      <td>...</td>\n",
       "      <td>...</td>\n",
       "      <td>...</td>\n",
       "      <td>...</td>\n",
       "      <td>...</td>\n",
       "      <td>...</td>\n",
       "      <td>...</td>\n",
       "      <td>...</td>\n",
       "      <td>...</td>\n",
       "      <td>...</td>\n",
       "      <td>...</td>\n",
       "      <td>...</td>\n",
       "      <td>...</td>\n",
       "      <td>...</td>\n",
       "      <td>...</td>\n",
       "      <td>...</td>\n",
       "      <td>...</td>\n",
       "      <td>...</td>\n",
       "    </tr>\n",
       "    <tr>\n",
       "      <th>68</th>\n",
       "      <td>0</td>\n",
       "      <td>0.100492</td>\n",
       "      <td>-0.128330</td>\n",
       "      <td>-0.078894</td>\n",
       "      <td>0.198656</td>\n",
       "      <td>-0.048005</td>\n",
       "      <td>-0.028465</td>\n",
       "      <td>0.173943</td>\n",
       "      <td>0.020846</td>\n",
       "      <td>-0.026905</td>\n",
       "      <td>...</td>\n",
       "      <td>-0.043261</td>\n",
       "      <td>0.645786</td>\n",
       "      <td>0.695767</td>\n",
       "      <td>-0.109109</td>\n",
       "      <td>0.556547</td>\n",
       "      <td>0.650702</td>\n",
       "      <td>-0.098927</td>\n",
       "      <td>0.504102</td>\n",
       "      <td>0.598151</td>\n",
       "      <td>-0.074337</td>\n",
       "    </tr>\n",
       "    <tr>\n",
       "      <th>563</th>\n",
       "      <td>3</td>\n",
       "      <td>0.008273</td>\n",
       "      <td>0.033247</td>\n",
       "      <td>-0.002911</td>\n",
       "      <td>0.021338</td>\n",
       "      <td>0.032771</td>\n",
       "      <td>-0.000497</td>\n",
       "      <td>0.019515</td>\n",
       "      <td>0.019212</td>\n",
       "      <td>-0.001912</td>\n",
       "      <td>...</td>\n",
       "      <td>-0.007912</td>\n",
       "      <td>0.638803</td>\n",
       "      <td>0.625778</td>\n",
       "      <td>-0.011680</td>\n",
       "      <td>0.652702</td>\n",
       "      <td>0.635423</td>\n",
       "      <td>-0.010840</td>\n",
       "      <td>0.663677</td>\n",
       "      <td>0.644828</td>\n",
       "      <td>-0.009630</td>\n",
       "    </tr>\n",
       "    <tr>\n",
       "      <th>503</th>\n",
       "      <td>4</td>\n",
       "      <td>-0.083226</td>\n",
       "      <td>0.038713</td>\n",
       "      <td>-0.109814</td>\n",
       "      <td>-0.048020</td>\n",
       "      <td>0.079718</td>\n",
       "      <td>-0.064478</td>\n",
       "      <td>-0.001268</td>\n",
       "      <td>0.094486</td>\n",
       "      <td>-0.034797</td>\n",
       "      <td>...</td>\n",
       "      <td>-0.098025</td>\n",
       "      <td>0.663381</td>\n",
       "      <td>0.481696</td>\n",
       "      <td>-0.129670</td>\n",
       "      <td>0.619557</td>\n",
       "      <td>0.488465</td>\n",
       "      <td>-0.132228</td>\n",
       "      <td>0.593576</td>\n",
       "      <td>0.475844</td>\n",
       "      <td>-0.131354</td>\n",
       "    </tr>\n",
       "    <tr>\n",
       "      <th>464</th>\n",
       "      <td>4</td>\n",
       "      <td>-0.059388</td>\n",
       "      <td>-0.035156</td>\n",
       "      <td>-0.126197</td>\n",
       "      <td>-0.049830</td>\n",
       "      <td>-0.025177</td>\n",
       "      <td>-0.090428</td>\n",
       "      <td>-0.008832</td>\n",
       "      <td>0.035146</td>\n",
       "      <td>-0.065696</td>\n",
       "      <td>...</td>\n",
       "      <td>-0.148547</td>\n",
       "      <td>0.578112</td>\n",
       "      <td>0.408713</td>\n",
       "      <td>-0.207203</td>\n",
       "      <td>0.504912</td>\n",
       "      <td>0.422101</td>\n",
       "      <td>-0.206547</td>\n",
       "      <td>0.484340</td>\n",
       "      <td>0.400460</td>\n",
       "      <td>-0.201354</td>\n",
       "    </tr>\n",
       "    <tr>\n",
       "      <th>360</th>\n",
       "      <td>3</td>\n",
       "      <td>0.038236</td>\n",
       "      <td>0.101918</td>\n",
       "      <td>-0.144089</td>\n",
       "      <td>0.098857</td>\n",
       "      <td>0.064415</td>\n",
       "      <td>-0.045746</td>\n",
       "      <td>0.109125</td>\n",
       "      <td>0.043830</td>\n",
       "      <td>-0.011613</td>\n",
       "      <td>...</td>\n",
       "      <td>0.079869</td>\n",
       "      <td>0.769806</td>\n",
       "      <td>0.548936</td>\n",
       "      <td>0.056389</td>\n",
       "      <td>0.778603</td>\n",
       "      <td>0.620836</td>\n",
       "      <td>0.027197</td>\n",
       "      <td>0.757028</td>\n",
       "      <td>0.671238</td>\n",
       "      <td>0.009782</td>\n",
       "    </tr>\n",
       "  </tbody>\n",
       "</table>\n",
       "<p>704 rows × 124 columns</p>\n",
       "</div>"
      ],
      "text/plain": [
       "     class  thumb_CmcX  thumb_CmcY  thumb_CmcZ  thumb_McpX  thumb_McpY  \\\n",
       "196      2   -0.030002    0.077437   -0.061635    0.022917    0.079914   \n",
       "595      3   -0.047275   -0.000454   -0.066009   -0.046599    0.029514   \n",
       "94       1    0.008283    0.150657    0.005010    0.073087    0.111326   \n",
       "368      3   -0.073477    0.081144   -0.156105   -0.023578    0.094049   \n",
       "8        0    0.054402    0.031386   -0.196867    0.099686   -0.019145   \n",
       "..     ...         ...         ...         ...         ...         ...   \n",
       "68       0    0.100492   -0.128330   -0.078894    0.198656   -0.048005   \n",
       "563      3    0.008273    0.033247   -0.002911    0.021338    0.032771   \n",
       "503      4   -0.083226    0.038713   -0.109814   -0.048020    0.079718   \n",
       "464      4   -0.059388   -0.035156   -0.126197   -0.049830   -0.025177   \n",
       "360      3    0.038236    0.101918   -0.144089    0.098857    0.064415   \n",
       "\n",
       "     thumb_McpZ  thumb_IpX  thumb_IpY  thumb_IpZ  ...  pinkyMcpZ  pinkyPipX  \\\n",
       "196   -0.047995   0.047444   0.079301  -0.030889  ...  -0.110354   0.779766   \n",
       "595   -0.052516  -0.045661   0.044531  -0.036573  ...  -0.119631   0.504373   \n",
       "94     0.005363   0.089465   0.072110   0.018535  ...   0.007006   0.586089   \n",
       "368   -0.099359   0.035587   0.081268  -0.062508  ...  -0.147938   0.749469   \n",
       "8     -0.068689   0.098577  -0.017558  -0.025890  ...   0.061749   0.697626   \n",
       "..          ...        ...        ...        ...  ...        ...        ...   \n",
       "68    -0.028465   0.173943   0.020846  -0.026905  ...  -0.043261   0.645786   \n",
       "563   -0.000497   0.019515   0.019212  -0.001912  ...  -0.007912   0.638803   \n",
       "503   -0.064478  -0.001268   0.094486  -0.034797  ...  -0.098025   0.663381   \n",
       "464   -0.090428  -0.008832   0.035146  -0.065696  ...  -0.148547   0.578112   \n",
       "360   -0.045746   0.109125   0.043830  -0.011613  ...   0.079869   0.769806   \n",
       "\n",
       "     pinkyPipY  pinkyPipZ  pinkyDipX  pinkyDipY  pinkyDipZ  pinkyTipX  \\\n",
       "196   0.349136  -0.133741   0.768725   0.399629  -0.133776   0.743822   \n",
       "595   0.544085  -0.153491   0.454341   0.568482  -0.165566   0.409534   \n",
       "94    0.367530   0.046167   0.557960   0.400607   0.078779   0.524909   \n",
       "368   0.685404  -0.199849   0.682880   0.723354  -0.207604   0.631107   \n",
       "8     0.434066   0.005759   0.631481   0.470204  -0.013373   0.585807   \n",
       "..         ...        ...        ...        ...        ...        ...   \n",
       "68    0.695767  -0.109109   0.556547   0.650702  -0.098927   0.504102   \n",
       "563   0.625778  -0.011680   0.652702   0.635423  -0.010840   0.663677   \n",
       "503   0.481696  -0.129670   0.619557   0.488465  -0.132228   0.593576   \n",
       "464   0.408713  -0.207203   0.504912   0.422101  -0.206547   0.484340   \n",
       "360   0.548936   0.056389   0.778603   0.620836   0.027197   0.757028   \n",
       "\n",
       "     pinkyTipY  pinkyTipZ  \n",
       "196   0.426409  -0.131886  \n",
       "595   0.574560  -0.170927  \n",
       "94    0.399525   0.096652  \n",
       "368   0.721244  -0.209051  \n",
       "8     0.451568  -0.014148  \n",
       "..         ...        ...  \n",
       "68    0.598151  -0.074337  \n",
       "563   0.644828  -0.009630  \n",
       "503   0.475844  -0.131354  \n",
       "464   0.400460  -0.201354  \n",
       "360   0.671238   0.009782  \n",
       "\n",
       "[704 rows x 124 columns]"
      ]
     },
     "execution_count": 10,
     "metadata": {},
     "output_type": "execute_result"
    }
   ],
   "source": [
    "df_train = sklearn.utils.shuffle(df_train)\n",
    "df_test = sklearn.utils.shuffle(df_test)\n",
    "df_test"
   ]
  },
  {
   "cell_type": "code",
   "execution_count": 11,
   "metadata": {
    "id": "dBRYMciWjTtY"
   },
   "outputs": [],
   "source": [
    "# Put Categorical using Pandas\n",
    "df_train[\"class\"] = pd.Categorical(df_train[\"class\"])\n",
    "df_test[\"class\"] = pd.Categorical(df_test[\"class\"])\n",
    "\n",
    "# Copy Label and Feature for training\n",
    "y_train = df_train.pop(\"class\")\n",
    "x_train = df_train.copy()\n",
    "\n",
    "y_test = df_test.pop(\"class\")\n",
    "x_test = df_test.copy()"
   ]
  },
  {
   "cell_type": "code",
   "execution_count": 12,
   "metadata": {
    "id": "Nw8jlwJjMMM3"
   },
   "outputs": [],
   "source": [
    "# Copied Features turn to Array by using NumPy\n",
    "x_train = np.array(x_train)\n",
    "x_test = np.array(x_test)\n",
    "# transformerTrain = MaxAbsScaler().fit(x_train)\n",
    "# transformerTrain.transform(x_train)\n",
    "# transformerTest = MaxAbsScaler().fit(x_test)\n",
    "# transformerTest.transform(x_test)"
   ]
  },
  {
   "cell_type": "code",
   "execution_count": 13,
   "metadata": {
    "id": "KI3LgEZ4XeHV"
   },
   "outputs": [],
   "source": [
    "\n",
    "x_train = np.reshape(x_train, (x_train.shape[0], x_train.shape[1] // 3, 3, 1))\n",
    "x_test = np.reshape(x_test, (x_test.shape[0], x_test.shape[1] // 3, 3, 1))\n",
    "# Number of classes according standard Indonesian Language Alphabets\n",
    "num_classes = 5\n",
    "# Using the Keras.Utils to put the label categorically \n",
    "y_train = to_categorical(y_train, num_classes)\n",
    "y_test = to_categorical(y_test, num_classes)\n"
   ]
  },
  {
   "cell_type": "code",
   "execution_count": 14,
   "metadata": {
    "colab": {
     "base_uri": "https://localhost:8080/"
    },
    "executionInfo": {
     "elapsed": 10,
     "status": "ok",
     "timestamp": 1671591089820,
     "user": {
      "displayName": "林蓬鬆",
      "userId": "10296061809598689077"
     },
     "user_tz": -480
    },
    "id": "DQiq8jQZv5tp",
    "outputId": "3aa0b661-291e-471f-a4da-0a7dc55d013f"
   },
   "outputs": [
    {
     "name": "stdout",
     "output_type": "stream",
     "text": [
      "(6314, 41, 3, 1) (704, 41, 3, 1) (6314, 5) (704, 5)\n"
     ]
    }
   ],
   "source": [
    "print(x_train.shape,\n",
    "x_test.shape,\n",
    "y_train.shape,\n",
    "y_test.shape)"
   ]
  },
  {
   "cell_type": "code",
   "execution_count": 18,
   "metadata": {
    "colab": {
     "base_uri": "https://localhost:8080/"
    },
    "executionInfo": {
     "elapsed": 467,
     "status": "ok",
     "timestamp": 1671591090638,
     "user": {
      "displayName": "林蓬鬆",
      "userId": "10296061809598689077"
     },
     "user_tz": -480
    },
    "id": "m6uwBsVgXgMw",
    "outputId": "43c319a2-3189-4ec9-81e4-97a738be77ee"
   },
   "outputs": [],
   "source": [
    "##model building\n",
    "model = tf.keras.models.Sequential()\n",
    "#convolutional layer with rectified linear unit activation\n",
    "model.add(tf.keras.layers.Conv2D(filters = 32, kernel_size=(3, 3), padding=\"same\",\n",
    "                 activation='relu',\n",
    "                 input_shape = x_train.shape[1:4]))\n",
    "#32 convolution filters used each of size 3x3\n",
    "#again\n",
    "model.add(tf.keras.layers.Conv2D(filters = 64, kernel_size = (3, 3), padding=\"same\", activation='relu'))\n",
    "#64 convolution filters used each of size 3x3\n",
    "#choose the best features via pooling\n",
    "model.add(tf.keras.layers.MaxPooling2D(pool_size=(2, 2)))\n",
    "#randomly turn neurons on and off to improve convergence\n",
    "model.add(tf.keras.layers.Dropout(rate = 0.25))\n",
    "#flatten since too many dimensions, we only want a classification output\n",
    "model.add(tf.keras.layers.Flatten())\n",
    "#fully connected to get all relevant data\n",
    "model.add(tf.keras.layers.Dense(128, activation='relu'))\n",
    "#one more dropout for convergence' sake :) \n",
    "model.add(tf.keras.layers.Dropout(rate = 0.5))\n",
    "#output a softmax to squash the matrix into output probabilities\n",
    "model.add(tf.keras.layers.Dense(num_classes, activation='softmax'))\n",
    "# # One Dimensional Convolutional Neural Network model, Train will be feed to 1 Dimension Convolutional Neural Network\n",
    "# model = tf.keras.models.Sequential([\n",
    "#     tf.keras.layers.Conv1D(filters=32, kernel_size=7, strides=1, padding=\"causal\", activation=\"relu\", input_shape=x_train.shape[1:3]),\n",
    "#     tf.keras.layers.Conv1D(filters=32, kernel_size=7, strides=1, padding=\"causal\", activation=\"relu\"),\n",
    "#     tf.keras.layers.MaxPooling1D(pool_size=2),\n",
    "#     tf.keras.layers.Conv1D(filters=64, kernel_size=7, strides=1, padding=\"causal\", activation=\"relu\"),\n",
    "#     tf.keras.layers.Conv1D(filters=64, kernel_size=7, strides=1, padding=\"causal\", activation=\"relu\"),\n",
    "#     tf.keras.layers.MaxPooling1D(pool_size=2),\n",
    "#     tf.keras.layers.Conv1D(filters=128, kernel_size=7, strides=1, padding=\"causal\", activation=\"relu\"),\n",
    "#     tf.keras.layers.Conv1D(filters=128, kernel_size=7, strides=1, padding=\"causal\", activation=\"relu\"),\n",
    "#     tf.keras.layers.MaxPooling1D(pool_size=2),\n",
    "#     tf.keras.layers.Conv1D(filters=256, kernel_size=7, strides=1, padding=\"causal\", activation=\"relu\"),\n",
    "#     tf.keras.layers.Conv1D(filters=256, kernel_size=7, strides=1, padding=\"causal\", activation=\"relu\"),\n",
    "#     tf.keras.layers.MaxPooling1D(pool_size=2),\n",
    "#     tf.keras.layers.Dropout(rate=0.2),\n",
    "#     # Flatten the results to feed into a DNN\n",
    "#     tf.keras.layers.Flatten(),\n",
    "#     # 512 neuron hidden layer\n",
    "#     tf.keras.layers.Dense(512, activation='relu'), \n",
    "#     tf.keras.layers.Dense(num_classes, activation='softmax')])\n",
    "# model.compile(loss = 'categorical_crossentropy', optimizer='adam', metrics=['accuracy'])\n",
    "# model.summary()"
   ]
  },
  {
   "cell_type": "code",
   "execution_count": null,
   "metadata": {},
   "outputs": [],
   "source": [
    "#Adaptive learning rate (adaDelta) is a popular form of gradient descent rivaled only by adam and adagrad\n",
    "#categorical ce since we have multiple classes (5) \n",
    "model.compile(loss= tf.keras.losses.categorical_crossentropy,\n",
    "              optimizer= tf.keras.optimizers.Adadelta(),\n",
    "              metrics=['accuracy'])"
   ]
  },
  {
   "cell_type": "code",
   "execution_count": null,
   "metadata": {
    "id": "rYXVqSA7RkSE"
   },
   "outputs": [],
   "source": [
    "earlystop_callback = EarlyStopping(\n",
    "  monitor='val_loss', min_delta=0.001,\n",
    "  patience=10, verbose=1, mode='min', restore_best_weights=True)"
   ]
  },
  {
   "cell_type": "code",
   "execution_count": 10,
   "metadata": {
    "colab": {
     "base_uri": "https://localhost:8080/"
    },
    "executionInfo": {
     "elapsed": 20012,
     "status": "ok",
     "timestamp": 1671591111305,
     "user": {
      "displayName": "林蓬鬆",
      "userId": "10296061809598689077"
     },
     "user_tz": -480
    },
    "id": "mw_0WDvVu5FP",
    "outputId": "05928f64-9722-4c44-84e3-74c18f03e60f"
   },
   "outputs": [
    {
     "name": "stdout",
     "output_type": "stream",
     "text": [
      "Epoch 1/100\n"
     ]
    },
    {
     "name": "stderr",
     "output_type": "stream",
     "text": [
      "2022-12-22 00:43:26.972012: W tensorflow/core/platform/profile_utils/cpu_utils.cc:128] Failed to get CPU frequency: 0 Hz\n",
      "2022-12-22 00:43:27.210699: I tensorflow/core/grappler/optimizers/custom_graph_optimizer_registry.cc:113] Plugin optimizer for device_type GPU is enabled.\n"
     ]
    },
    {
     "name": "stdout",
     "output_type": "stream",
     "text": [
      "50/50 [==============================] - 4s 24ms/step - loss: 1.6036 - accuracy: 0.2317 - val_loss: 1.6009 - val_accuracy: 0.2472\n",
      "Epoch 2/100\n",
      " 6/50 [==>...........................] - ETA: 0s - loss: 1.6053 - accuracy: 0.2318"
     ]
    },
    {
     "name": "stderr",
     "output_type": "stream",
     "text": [
      "2022-12-22 00:43:30.931493: I tensorflow/core/grappler/optimizers/custom_graph_optimizer_registry.cc:113] Plugin optimizer for device_type GPU is enabled.\n"
     ]
    },
    {
     "name": "stdout",
     "output_type": "stream",
     "text": [
      "50/50 [==============================] - 1s 11ms/step - loss: 1.6041 - accuracy: 0.2300 - val_loss: 1.5997 - val_accuracy: 0.2472\n",
      "Epoch 3/100\n",
      "50/50 [==============================] - 1s 11ms/step - loss: 1.6029 - accuracy: 0.2342 - val_loss: 1.5986 - val_accuracy: 0.2472\n",
      "Epoch 4/100\n",
      "50/50 [==============================] - 1s 11ms/step - loss: 1.6012 - accuracy: 0.2352 - val_loss: 1.5975 - val_accuracy: 0.2472\n",
      "Epoch 5/100\n",
      "50/50 [==============================] - 1s 11ms/step - loss: 1.6019 - accuracy: 0.2314 - val_loss: 1.5964 - val_accuracy: 0.2472\n",
      "Epoch 6/100\n",
      "50/50 [==============================] - 1s 11ms/step - loss: 1.6000 - accuracy: 0.2365 - val_loss: 1.5953 - val_accuracy: 0.2472\n",
      "Epoch 7/100\n",
      "50/50 [==============================] - 1s 12ms/step - loss: 1.5973 - accuracy: 0.2412 - val_loss: 1.5943 - val_accuracy: 0.2472\n",
      "Epoch 8/100\n",
      "50/50 [==============================] - 1s 11ms/step - loss: 1.5968 - accuracy: 0.2420 - val_loss: 1.5932 - val_accuracy: 0.2472\n",
      "Epoch 9/100\n",
      "50/50 [==============================] - 1s 11ms/step - loss: 1.5957 - accuracy: 0.2439 - val_loss: 1.5923 - val_accuracy: 0.2472\n",
      "Epoch 10/100\n",
      "50/50 [==============================] - 1s 12ms/step - loss: 1.5954 - accuracy: 0.2426 - val_loss: 1.5913 - val_accuracy: 0.2472\n",
      "Epoch 11/100\n",
      "50/50 [==============================] - 1s 11ms/step - loss: 1.5924 - accuracy: 0.2507 - val_loss: 1.5903 - val_accuracy: 0.2472\n",
      "Epoch 12/100\n",
      "50/50 [==============================] - 1s 12ms/step - loss: 1.5943 - accuracy: 0.2312 - val_loss: 1.5894 - val_accuracy: 0.2472\n",
      "Epoch 13/100\n",
      "50/50 [==============================] - 1s 11ms/step - loss: 1.5917 - accuracy: 0.2412 - val_loss: 1.5885 - val_accuracy: 0.2472\n",
      "Epoch 14/100\n",
      "50/50 [==============================] - 1s 11ms/step - loss: 1.5905 - accuracy: 0.2469 - val_loss: 1.5876 - val_accuracy: 0.2472\n",
      "Epoch 15/100\n",
      "50/50 [==============================] - 1s 11ms/step - loss: 1.5905 - accuracy: 0.2398 - val_loss: 1.5867 - val_accuracy: 0.2472\n",
      "Epoch 16/100\n",
      "50/50 [==============================] - 1s 11ms/step - loss: 1.5890 - accuracy: 0.2531 - val_loss: 1.5859 - val_accuracy: 0.2472\n",
      "Epoch 17/100\n",
      "50/50 [==============================] - 1s 11ms/step - loss: 1.5864 - accuracy: 0.2504 - val_loss: 1.5850 - val_accuracy: 0.2472\n",
      "Epoch 18/100\n",
      "50/50 [==============================] - 1s 12ms/step - loss: 1.5868 - accuracy: 0.2536 - val_loss: 1.5842 - val_accuracy: 0.2472\n",
      "Epoch 19/100\n",
      "50/50 [==============================] - 1s 11ms/step - loss: 1.5876 - accuracy: 0.2452 - val_loss: 1.5834 - val_accuracy: 0.2472\n",
      "Epoch 20/100\n",
      "50/50 [==============================] - 1s 12ms/step - loss: 1.5854 - accuracy: 0.2449 - val_loss: 1.5826 - val_accuracy: 0.2472\n",
      "Epoch 21/100\n",
      "50/50 [==============================] - 1s 11ms/step - loss: 1.5850 - accuracy: 0.2521 - val_loss: 1.5818 - val_accuracy: 0.2472\n",
      "Epoch 22/100\n",
      "50/50 [==============================] - 1s 11ms/step - loss: 1.5843 - accuracy: 0.2482 - val_loss: 1.5811 - val_accuracy: 0.2472\n",
      "Epoch 23/100\n",
      "50/50 [==============================] - 1s 11ms/step - loss: 1.5823 - accuracy: 0.2512 - val_loss: 1.5803 - val_accuracy: 0.2472\n",
      "Epoch 24/100\n",
      "50/50 [==============================] - 1s 11ms/step - loss: 1.5803 - accuracy: 0.2639 - val_loss: 1.5796 - val_accuracy: 0.2472\n",
      "Epoch 25/100\n",
      "50/50 [==============================] - 1s 11ms/step - loss: 1.5795 - accuracy: 0.2501 - val_loss: 1.5788 - val_accuracy: 0.2472\n",
      "Epoch 26/100\n",
      "50/50 [==============================] - 1s 11ms/step - loss: 1.5815 - accuracy: 0.2528 - val_loss: 1.5781 - val_accuracy: 0.2472\n",
      "Epoch 27/100\n",
      "50/50 [==============================] - 1s 11ms/step - loss: 1.5795 - accuracy: 0.2559 - val_loss: 1.5774 - val_accuracy: 0.2472\n",
      "Epoch 28/100\n",
      "50/50 [==============================] - 1s 11ms/step - loss: 1.5784 - accuracy: 0.2534 - val_loss: 1.5767 - val_accuracy: 0.2472\n",
      "Epoch 29/100\n",
      "50/50 [==============================] - 1s 11ms/step - loss: 1.5801 - accuracy: 0.2437 - val_loss: 1.5760 - val_accuracy: 0.2472\n",
      "Epoch 30/100\n",
      "50/50 [==============================] - 1s 12ms/step - loss: 1.5767 - accuracy: 0.2544 - val_loss: 1.5753 - val_accuracy: 0.2472\n",
      "Epoch 31/100\n",
      "50/50 [==============================] - 1s 11ms/step - loss: 1.5768 - accuracy: 0.2556 - val_loss: 1.5746 - val_accuracy: 0.2472\n",
      "Epoch 32/100\n",
      "50/50 [==============================] - 1s 12ms/step - loss: 1.5769 - accuracy: 0.2450 - val_loss: 1.5739 - val_accuracy: 0.2472\n",
      "Epoch 33/100\n",
      "50/50 [==============================] - 1s 11ms/step - loss: 1.5758 - accuracy: 0.2566 - val_loss: 1.5733 - val_accuracy: 0.2457\n",
      "Epoch 34/100\n",
      "50/50 [==============================] - 1s 11ms/step - loss: 1.5775 - accuracy: 0.2425 - val_loss: 1.5727 - val_accuracy: 0.2457\n",
      "Epoch 35/100\n",
      "50/50 [==============================] - 1s 11ms/step - loss: 1.5723 - accuracy: 0.2544 - val_loss: 1.5721 - val_accuracy: 0.2457\n",
      "Epoch 36/100\n",
      "50/50 [==============================] - 1s 11ms/step - loss: 1.5740 - accuracy: 0.2588 - val_loss: 1.5715 - val_accuracy: 0.2457\n",
      "Epoch 37/100\n",
      "50/50 [==============================] - 1s 12ms/step - loss: 1.5730 - accuracy: 0.2532 - val_loss: 1.5709 - val_accuracy: 0.2457\n",
      "Epoch 38/100\n",
      "50/50 [==============================] - 1s 12ms/step - loss: 1.5738 - accuracy: 0.2529 - val_loss: 1.5703 - val_accuracy: 0.2457\n",
      "Epoch 39/100\n",
      "50/50 [==============================] - 1s 13ms/step - loss: 1.5738 - accuracy: 0.2466 - val_loss: 1.5697 - val_accuracy: 0.2457\n",
      "Epoch 40/100\n",
      "50/50 [==============================] - 1s 12ms/step - loss: 1.5711 - accuracy: 0.2526 - val_loss: 1.5692 - val_accuracy: 0.2457\n",
      "Epoch 41/100\n",
      "50/50 [==============================] - 1s 11ms/step - loss: 1.5710 - accuracy: 0.2537 - val_loss: 1.5687 - val_accuracy: 0.2457\n",
      "Epoch 42/100\n",
      "50/50 [==============================] - 1s 11ms/step - loss: 1.5709 - accuracy: 0.2520 - val_loss: 1.5681 - val_accuracy: 0.2472\n",
      "Epoch 43/100\n",
      "50/50 [==============================] - 1s 11ms/step - loss: 1.5699 - accuracy: 0.2583 - val_loss: 1.5676 - val_accuracy: 0.2457\n",
      "Epoch 44/100\n",
      "50/50 [==============================] - 1s 12ms/step - loss: 1.5702 - accuracy: 0.2479 - val_loss: 1.5671 - val_accuracy: 0.2557\n",
      "Epoch 45/100\n",
      "50/50 [==============================] - 1s 12ms/step - loss: 1.5674 - accuracy: 0.2566 - val_loss: 1.5666 - val_accuracy: 0.2557\n",
      "Epoch 46/100\n",
      "50/50 [==============================] - 1s 11ms/step - loss: 1.5698 - accuracy: 0.2545 - val_loss: 1.5661 - val_accuracy: 0.2557\n",
      "Epoch 47/100\n",
      " 1/50 [..............................] - ETA: 0s - loss: 1.5537 - accuracy: 0.2500"
     ]
    },
    {
     "ename": "KeyboardInterrupt",
     "evalue": "",
     "output_type": "error",
     "traceback": [
      "\u001b[0;31m---------------------------------------------------------------------------\u001b[0m",
      "\u001b[0;31mKeyboardInterrupt\u001b[0m                         Traceback (most recent call last)",
      "Cell \u001b[0;32mIn [10], line 2\u001b[0m\n\u001b[1;32m      1\u001b[0m \u001b[38;5;66;03m#Train the Model\u001b[39;00m\n\u001b[0;32m----> 2\u001b[0m \u001b[43mmodel\u001b[49m\u001b[38;5;241;43m.\u001b[39;49m\u001b[43mfit\u001b[49m\u001b[43m(\u001b[49m\u001b[43mx_train\u001b[49m\u001b[43m,\u001b[49m\u001b[43m \u001b[49m\u001b[43my_train\u001b[49m\u001b[43m,\u001b[49m\u001b[43m \u001b[49m\u001b[43mepochs\u001b[49m\u001b[38;5;241;43m=\u001b[39;49m\u001b[38;5;241;43m100\u001b[39;49m\u001b[43m,\u001b[49m\u001b[43m \u001b[49m\u001b[43mbatch_size\u001b[49m\u001b[38;5;241;43m=\u001b[39;49m\u001b[38;5;241;43m128\u001b[39;49m\u001b[43m,\u001b[49m\u001b[43m \u001b[49m\u001b[43mcallbacks\u001b[49m\u001b[38;5;241;43m=\u001b[39;49m\u001b[43m[\u001b[49m\u001b[43mearlystop_callback\u001b[49m\u001b[43m]\u001b[49m\u001b[43m,\u001b[49m\u001b[43m \u001b[49m\u001b[43mvalidation_data\u001b[49m\u001b[38;5;241;43m=\u001b[39;49m\u001b[43m(\u001b[49m\u001b[43mx_test\u001b[49m\u001b[43m,\u001b[49m\u001b[43m \u001b[49m\u001b[43my_test\u001b[49m\u001b[43m)\u001b[49m\u001b[43m)\u001b[49m\n",
      "File \u001b[0;32m~/miniconda/lib/python3.9/site-packages/keras/utils/traceback_utils.py:64\u001b[0m, in \u001b[0;36mfilter_traceback.<locals>.error_handler\u001b[0;34m(*args, **kwargs)\u001b[0m\n\u001b[1;32m     62\u001b[0m filtered_tb \u001b[38;5;241m=\u001b[39m \u001b[38;5;28;01mNone\u001b[39;00m\n\u001b[1;32m     63\u001b[0m \u001b[38;5;28;01mtry\u001b[39;00m:\n\u001b[0;32m---> 64\u001b[0m   \u001b[38;5;28;01mreturn\u001b[39;00m \u001b[43mfn\u001b[49m\u001b[43m(\u001b[49m\u001b[38;5;241;43m*\u001b[39;49m\u001b[43margs\u001b[49m\u001b[43m,\u001b[49m\u001b[43m \u001b[49m\u001b[38;5;241;43m*\u001b[39;49m\u001b[38;5;241;43m*\u001b[39;49m\u001b[43mkwargs\u001b[49m\u001b[43m)\u001b[49m\n\u001b[1;32m     65\u001b[0m \u001b[38;5;28;01mexcept\u001b[39;00m \u001b[38;5;167;01mException\u001b[39;00m \u001b[38;5;28;01mas\u001b[39;00m e:  \u001b[38;5;66;03m# pylint: disable=broad-except\u001b[39;00m\n\u001b[1;32m     66\u001b[0m   filtered_tb \u001b[38;5;241m=\u001b[39m _process_traceback_frames(e\u001b[38;5;241m.\u001b[39m__traceback__)\n",
      "File \u001b[0;32m~/miniconda/lib/python3.9/site-packages/keras/engine/training.py:1409\u001b[0m, in \u001b[0;36mModel.fit\u001b[0;34m(self, x, y, batch_size, epochs, verbose, callbacks, validation_split, validation_data, shuffle, class_weight, sample_weight, initial_epoch, steps_per_epoch, validation_steps, validation_batch_size, validation_freq, max_queue_size, workers, use_multiprocessing)\u001b[0m\n\u001b[1;32m   1402\u001b[0m \u001b[38;5;28;01mwith\u001b[39;00m tf\u001b[38;5;241m.\u001b[39mprofiler\u001b[38;5;241m.\u001b[39mexperimental\u001b[38;5;241m.\u001b[39mTrace(\n\u001b[1;32m   1403\u001b[0m     \u001b[38;5;124m'\u001b[39m\u001b[38;5;124mtrain\u001b[39m\u001b[38;5;124m'\u001b[39m,\n\u001b[1;32m   1404\u001b[0m     epoch_num\u001b[38;5;241m=\u001b[39mepoch,\n\u001b[1;32m   1405\u001b[0m     step_num\u001b[38;5;241m=\u001b[39mstep,\n\u001b[1;32m   1406\u001b[0m     batch_size\u001b[38;5;241m=\u001b[39mbatch_size,\n\u001b[1;32m   1407\u001b[0m     _r\u001b[38;5;241m=\u001b[39m\u001b[38;5;241m1\u001b[39m):\n\u001b[1;32m   1408\u001b[0m   callbacks\u001b[38;5;241m.\u001b[39mon_train_batch_begin(step)\n\u001b[0;32m-> 1409\u001b[0m   tmp_logs \u001b[38;5;241m=\u001b[39m \u001b[38;5;28;43mself\u001b[39;49m\u001b[38;5;241;43m.\u001b[39;49m\u001b[43mtrain_function\u001b[49m\u001b[43m(\u001b[49m\u001b[43miterator\u001b[49m\u001b[43m)\u001b[49m\n\u001b[1;32m   1410\u001b[0m   \u001b[38;5;28;01mif\u001b[39;00m data_handler\u001b[38;5;241m.\u001b[39mshould_sync:\n\u001b[1;32m   1411\u001b[0m     context\u001b[38;5;241m.\u001b[39masync_wait()\n",
      "File \u001b[0;32m~/miniconda/lib/python3.9/site-packages/tensorflow/python/util/traceback_utils.py:150\u001b[0m, in \u001b[0;36mfilter_traceback.<locals>.error_handler\u001b[0;34m(*args, **kwargs)\u001b[0m\n\u001b[1;32m    148\u001b[0m filtered_tb \u001b[38;5;241m=\u001b[39m \u001b[38;5;28;01mNone\u001b[39;00m\n\u001b[1;32m    149\u001b[0m \u001b[38;5;28;01mtry\u001b[39;00m:\n\u001b[0;32m--> 150\u001b[0m   \u001b[38;5;28;01mreturn\u001b[39;00m \u001b[43mfn\u001b[49m\u001b[43m(\u001b[49m\u001b[38;5;241;43m*\u001b[39;49m\u001b[43margs\u001b[49m\u001b[43m,\u001b[49m\u001b[43m \u001b[49m\u001b[38;5;241;43m*\u001b[39;49m\u001b[38;5;241;43m*\u001b[39;49m\u001b[43mkwargs\u001b[49m\u001b[43m)\u001b[49m\n\u001b[1;32m    151\u001b[0m \u001b[38;5;28;01mexcept\u001b[39;00m \u001b[38;5;167;01mException\u001b[39;00m \u001b[38;5;28;01mas\u001b[39;00m e:\n\u001b[1;32m    152\u001b[0m   filtered_tb \u001b[38;5;241m=\u001b[39m _process_traceback_frames(e\u001b[38;5;241m.\u001b[39m__traceback__)\n",
      "File \u001b[0;32m~/miniconda/lib/python3.9/site-packages/tensorflow/python/eager/def_function.py:915\u001b[0m, in \u001b[0;36mFunction.__call__\u001b[0;34m(self, *args, **kwds)\u001b[0m\n\u001b[1;32m    912\u001b[0m compiler \u001b[38;5;241m=\u001b[39m \u001b[38;5;124m\"\u001b[39m\u001b[38;5;124mxla\u001b[39m\u001b[38;5;124m\"\u001b[39m \u001b[38;5;28;01mif\u001b[39;00m \u001b[38;5;28mself\u001b[39m\u001b[38;5;241m.\u001b[39m_jit_compile \u001b[38;5;28;01melse\u001b[39;00m \u001b[38;5;124m\"\u001b[39m\u001b[38;5;124mnonXla\u001b[39m\u001b[38;5;124m\"\u001b[39m\n\u001b[1;32m    914\u001b[0m \u001b[38;5;28;01mwith\u001b[39;00m OptionalXlaContext(\u001b[38;5;28mself\u001b[39m\u001b[38;5;241m.\u001b[39m_jit_compile):\n\u001b[0;32m--> 915\u001b[0m   result \u001b[38;5;241m=\u001b[39m \u001b[38;5;28;43mself\u001b[39;49m\u001b[38;5;241;43m.\u001b[39;49m\u001b[43m_call\u001b[49m\u001b[43m(\u001b[49m\u001b[38;5;241;43m*\u001b[39;49m\u001b[43margs\u001b[49m\u001b[43m,\u001b[49m\u001b[43m \u001b[49m\u001b[38;5;241;43m*\u001b[39;49m\u001b[38;5;241;43m*\u001b[39;49m\u001b[43mkwds\u001b[49m\u001b[43m)\u001b[49m\n\u001b[1;32m    917\u001b[0m new_tracing_count \u001b[38;5;241m=\u001b[39m \u001b[38;5;28mself\u001b[39m\u001b[38;5;241m.\u001b[39mexperimental_get_tracing_count()\n\u001b[1;32m    918\u001b[0m without_tracing \u001b[38;5;241m=\u001b[39m (tracing_count \u001b[38;5;241m==\u001b[39m new_tracing_count)\n",
      "File \u001b[0;32m~/miniconda/lib/python3.9/site-packages/tensorflow/python/eager/def_function.py:947\u001b[0m, in \u001b[0;36mFunction._call\u001b[0;34m(self, *args, **kwds)\u001b[0m\n\u001b[1;32m    944\u001b[0m   \u001b[38;5;28mself\u001b[39m\u001b[38;5;241m.\u001b[39m_lock\u001b[38;5;241m.\u001b[39mrelease()\n\u001b[1;32m    945\u001b[0m   \u001b[38;5;66;03m# In this case we have created variables on the first call, so we run the\u001b[39;00m\n\u001b[1;32m    946\u001b[0m   \u001b[38;5;66;03m# defunned version which is guaranteed to never create variables.\u001b[39;00m\n\u001b[0;32m--> 947\u001b[0m   \u001b[38;5;28;01mreturn\u001b[39;00m \u001b[38;5;28;43mself\u001b[39;49m\u001b[38;5;241;43m.\u001b[39;49m\u001b[43m_stateless_fn\u001b[49m\u001b[43m(\u001b[49m\u001b[38;5;241;43m*\u001b[39;49m\u001b[43margs\u001b[49m\u001b[43m,\u001b[49m\u001b[43m \u001b[49m\u001b[38;5;241;43m*\u001b[39;49m\u001b[38;5;241;43m*\u001b[39;49m\u001b[43mkwds\u001b[49m\u001b[43m)\u001b[49m  \u001b[38;5;66;03m# pylint: disable=not-callable\u001b[39;00m\n\u001b[1;32m    948\u001b[0m \u001b[38;5;28;01melif\u001b[39;00m \u001b[38;5;28mself\u001b[39m\u001b[38;5;241m.\u001b[39m_stateful_fn \u001b[38;5;129;01mis\u001b[39;00m \u001b[38;5;129;01mnot\u001b[39;00m \u001b[38;5;28;01mNone\u001b[39;00m:\n\u001b[1;32m    949\u001b[0m   \u001b[38;5;66;03m# Release the lock early so that multiple threads can perform the call\u001b[39;00m\n\u001b[1;32m    950\u001b[0m   \u001b[38;5;66;03m# in parallel.\u001b[39;00m\n\u001b[1;32m    951\u001b[0m   \u001b[38;5;28mself\u001b[39m\u001b[38;5;241m.\u001b[39m_lock\u001b[38;5;241m.\u001b[39mrelease()\n",
      "File \u001b[0;32m~/miniconda/lib/python3.9/site-packages/tensorflow/python/eager/function.py:2453\u001b[0m, in \u001b[0;36mFunction.__call__\u001b[0;34m(self, *args, **kwargs)\u001b[0m\n\u001b[1;32m   2450\u001b[0m \u001b[38;5;28;01mwith\u001b[39;00m \u001b[38;5;28mself\u001b[39m\u001b[38;5;241m.\u001b[39m_lock:\n\u001b[1;32m   2451\u001b[0m   (graph_function,\n\u001b[1;32m   2452\u001b[0m    filtered_flat_args) \u001b[38;5;241m=\u001b[39m \u001b[38;5;28mself\u001b[39m\u001b[38;5;241m.\u001b[39m_maybe_define_function(args, kwargs)\n\u001b[0;32m-> 2453\u001b[0m \u001b[38;5;28;01mreturn\u001b[39;00m \u001b[43mgraph_function\u001b[49m\u001b[38;5;241;43m.\u001b[39;49m\u001b[43m_call_flat\u001b[49m\u001b[43m(\u001b[49m\n\u001b[1;32m   2454\u001b[0m \u001b[43m    \u001b[49m\u001b[43mfiltered_flat_args\u001b[49m\u001b[43m,\u001b[49m\u001b[43m \u001b[49m\u001b[43mcaptured_inputs\u001b[49m\u001b[38;5;241;43m=\u001b[39;49m\u001b[43mgraph_function\u001b[49m\u001b[38;5;241;43m.\u001b[39;49m\u001b[43mcaptured_inputs\u001b[49m\u001b[43m)\u001b[49m\n",
      "File \u001b[0;32m~/miniconda/lib/python3.9/site-packages/tensorflow/python/eager/function.py:1860\u001b[0m, in \u001b[0;36mConcreteFunction._call_flat\u001b[0;34m(self, args, captured_inputs, cancellation_manager)\u001b[0m\n\u001b[1;32m   1856\u001b[0m possible_gradient_type \u001b[38;5;241m=\u001b[39m gradients_util\u001b[38;5;241m.\u001b[39mPossibleTapeGradientTypes(args)\n\u001b[1;32m   1857\u001b[0m \u001b[38;5;28;01mif\u001b[39;00m (possible_gradient_type \u001b[38;5;241m==\u001b[39m gradients_util\u001b[38;5;241m.\u001b[39mPOSSIBLE_GRADIENT_TYPES_NONE\n\u001b[1;32m   1858\u001b[0m     \u001b[38;5;129;01mand\u001b[39;00m executing_eagerly):\n\u001b[1;32m   1859\u001b[0m   \u001b[38;5;66;03m# No tape is watching; skip to running the function.\u001b[39;00m\n\u001b[0;32m-> 1860\u001b[0m   \u001b[38;5;28;01mreturn\u001b[39;00m \u001b[38;5;28mself\u001b[39m\u001b[38;5;241m.\u001b[39m_build_call_outputs(\u001b[38;5;28;43mself\u001b[39;49m\u001b[38;5;241;43m.\u001b[39;49m\u001b[43m_inference_function\u001b[49m\u001b[38;5;241;43m.\u001b[39;49m\u001b[43mcall\u001b[49m\u001b[43m(\u001b[49m\n\u001b[1;32m   1861\u001b[0m \u001b[43m      \u001b[49m\u001b[43mctx\u001b[49m\u001b[43m,\u001b[49m\u001b[43m \u001b[49m\u001b[43margs\u001b[49m\u001b[43m,\u001b[49m\u001b[43m \u001b[49m\u001b[43mcancellation_manager\u001b[49m\u001b[38;5;241;43m=\u001b[39;49m\u001b[43mcancellation_manager\u001b[49m\u001b[43m)\u001b[49m)\n\u001b[1;32m   1862\u001b[0m forward_backward \u001b[38;5;241m=\u001b[39m \u001b[38;5;28mself\u001b[39m\u001b[38;5;241m.\u001b[39m_select_forward_and_backward_functions(\n\u001b[1;32m   1863\u001b[0m     args,\n\u001b[1;32m   1864\u001b[0m     possible_gradient_type,\n\u001b[1;32m   1865\u001b[0m     executing_eagerly)\n\u001b[1;32m   1866\u001b[0m forward_function, args_with_tangents \u001b[38;5;241m=\u001b[39m forward_backward\u001b[38;5;241m.\u001b[39mforward()\n",
      "File \u001b[0;32m~/miniconda/lib/python3.9/site-packages/tensorflow/python/eager/function.py:497\u001b[0m, in \u001b[0;36m_EagerDefinedFunction.call\u001b[0;34m(self, ctx, args, cancellation_manager)\u001b[0m\n\u001b[1;32m    495\u001b[0m \u001b[38;5;28;01mwith\u001b[39;00m _InterpolateFunctionError(\u001b[38;5;28mself\u001b[39m):\n\u001b[1;32m    496\u001b[0m   \u001b[38;5;28;01mif\u001b[39;00m cancellation_manager \u001b[38;5;129;01mis\u001b[39;00m \u001b[38;5;28;01mNone\u001b[39;00m:\n\u001b[0;32m--> 497\u001b[0m     outputs \u001b[38;5;241m=\u001b[39m \u001b[43mexecute\u001b[49m\u001b[38;5;241;43m.\u001b[39;49m\u001b[43mexecute\u001b[49m\u001b[43m(\u001b[49m\n\u001b[1;32m    498\u001b[0m \u001b[43m        \u001b[49m\u001b[38;5;28;43mstr\u001b[39;49m\u001b[43m(\u001b[49m\u001b[38;5;28;43mself\u001b[39;49m\u001b[38;5;241;43m.\u001b[39;49m\u001b[43msignature\u001b[49m\u001b[38;5;241;43m.\u001b[39;49m\u001b[43mname\u001b[49m\u001b[43m)\u001b[49m\u001b[43m,\u001b[49m\n\u001b[1;32m    499\u001b[0m \u001b[43m        \u001b[49m\u001b[43mnum_outputs\u001b[49m\u001b[38;5;241;43m=\u001b[39;49m\u001b[38;5;28;43mself\u001b[39;49m\u001b[38;5;241;43m.\u001b[39;49m\u001b[43m_num_outputs\u001b[49m\u001b[43m,\u001b[49m\n\u001b[1;32m    500\u001b[0m \u001b[43m        \u001b[49m\u001b[43minputs\u001b[49m\u001b[38;5;241;43m=\u001b[39;49m\u001b[43margs\u001b[49m\u001b[43m,\u001b[49m\n\u001b[1;32m    501\u001b[0m \u001b[43m        \u001b[49m\u001b[43mattrs\u001b[49m\u001b[38;5;241;43m=\u001b[39;49m\u001b[43mattrs\u001b[49m\u001b[43m,\u001b[49m\n\u001b[1;32m    502\u001b[0m \u001b[43m        \u001b[49m\u001b[43mctx\u001b[49m\u001b[38;5;241;43m=\u001b[39;49m\u001b[43mctx\u001b[49m\u001b[43m)\u001b[49m\n\u001b[1;32m    503\u001b[0m   \u001b[38;5;28;01melse\u001b[39;00m:\n\u001b[1;32m    504\u001b[0m     outputs \u001b[38;5;241m=\u001b[39m execute\u001b[38;5;241m.\u001b[39mexecute_with_cancellation(\n\u001b[1;32m    505\u001b[0m         \u001b[38;5;28mstr\u001b[39m(\u001b[38;5;28mself\u001b[39m\u001b[38;5;241m.\u001b[39msignature\u001b[38;5;241m.\u001b[39mname),\n\u001b[1;32m    506\u001b[0m         num_outputs\u001b[38;5;241m=\u001b[39m\u001b[38;5;28mself\u001b[39m\u001b[38;5;241m.\u001b[39m_num_outputs,\n\u001b[0;32m   (...)\u001b[0m\n\u001b[1;32m    509\u001b[0m         ctx\u001b[38;5;241m=\u001b[39mctx,\n\u001b[1;32m    510\u001b[0m         cancellation_manager\u001b[38;5;241m=\u001b[39mcancellation_manager)\n",
      "File \u001b[0;32m~/miniconda/lib/python3.9/site-packages/tensorflow/python/eager/execute.py:54\u001b[0m, in \u001b[0;36mquick_execute\u001b[0;34m(op_name, num_outputs, inputs, attrs, ctx, name)\u001b[0m\n\u001b[1;32m     52\u001b[0m \u001b[38;5;28;01mtry\u001b[39;00m:\n\u001b[1;32m     53\u001b[0m   ctx\u001b[38;5;241m.\u001b[39mensure_initialized()\n\u001b[0;32m---> 54\u001b[0m   tensors \u001b[38;5;241m=\u001b[39m \u001b[43mpywrap_tfe\u001b[49m\u001b[38;5;241;43m.\u001b[39;49m\u001b[43mTFE_Py_Execute\u001b[49m\u001b[43m(\u001b[49m\u001b[43mctx\u001b[49m\u001b[38;5;241;43m.\u001b[39;49m\u001b[43m_handle\u001b[49m\u001b[43m,\u001b[49m\u001b[43m \u001b[49m\u001b[43mdevice_name\u001b[49m\u001b[43m,\u001b[49m\u001b[43m \u001b[49m\u001b[43mop_name\u001b[49m\u001b[43m,\u001b[49m\n\u001b[1;32m     55\u001b[0m \u001b[43m                                      \u001b[49m\u001b[43minputs\u001b[49m\u001b[43m,\u001b[49m\u001b[43m \u001b[49m\u001b[43mattrs\u001b[49m\u001b[43m,\u001b[49m\u001b[43m \u001b[49m\u001b[43mnum_outputs\u001b[49m\u001b[43m)\u001b[49m\n\u001b[1;32m     56\u001b[0m \u001b[38;5;28;01mexcept\u001b[39;00m core\u001b[38;5;241m.\u001b[39m_NotOkStatusException \u001b[38;5;28;01mas\u001b[39;00m e:\n\u001b[1;32m     57\u001b[0m   \u001b[38;5;28;01mif\u001b[39;00m name \u001b[38;5;129;01mis\u001b[39;00m \u001b[38;5;129;01mnot\u001b[39;00m \u001b[38;5;28;01mNone\u001b[39;00m:\n",
      "\u001b[0;31mKeyboardInterrupt\u001b[0m: "
     ]
    }
   ],
   "source": [
    "#Train the Model\n",
    "model.fit(x_train, y_train, epochs=100, batch_size=128, callbacks=[earlystop_callback], validation_data=(x_test, y_test))"
   ]
  },
  {
   "cell_type": "code",
   "execution_count": 10,
   "metadata": {
    "colab": {
     "base_uri": "https://localhost:8080/"
    },
    "executionInfo": {
     "elapsed": 16,
     "status": "ok",
     "timestamp": 1671591111305,
     "user": {
      "displayName": "林蓬鬆",
      "userId": "10296061809598689077"
     },
     "user_tz": -480
    },
    "id": "traUTMskYNjA",
    "outputId": "3830f53f-6e19-4e03-c60d-3a189c752c21"
   },
   "outputs": [
    {
     "name": "stdout",
     "output_type": "stream",
     "text": [
      "(497, 60, 1) (497, 5)\n"
     ]
    }
   ],
   "source": [
    "df_pic = pd.read_csv('output_pic2.csv', encoding='utf-8')\n",
    "df_pic = sklearn.utils.shuffle(df_pic)\n",
    "label2 = df_pic[\"class\"]\n",
    "data2 = df_pic.iloc[:,1:]\n",
    "data2n = np.array(data2)\n",
    "label2n = np.array(label2)\n",
    "label2n  = np_utils.to_categorical(label2n)\n",
    "data2n = np.reshape(data2n, (data2n.shape[0], data2n.shape[1], 1))\n",
    "print(data2n.shape, label2n.shape)"
   ]
  },
  {
   "cell_type": "code",
   "execution_count": 11,
   "metadata": {
    "colab": {
     "base_uri": "https://localhost:8080/"
    },
    "executionInfo": {
     "elapsed": 2582,
     "status": "ok",
     "timestamp": 1671591113873,
     "user": {
      "displayName": "林蓬鬆",
      "userId": "10296061809598689077"
     },
     "user_tz": -480
    },
    "id": "vxAdiudKofZZ",
    "outputId": "ce69cd96-40a2-4fe0-8daa-e27c4bce2c02"
   },
   "outputs": [
    {
     "name": "stdout",
     "output_type": "stream",
     "text": [
      "16/16 [==============================] - 0s 14ms/step - loss: 1.6561 - accuracy: 0.5433\n"
     ]
    },
    {
     "data": {
      "text/plain": [
       "[1.6561193466186523, 0.5432596206665039]"
      ]
     },
     "execution_count": 11,
     "metadata": {},
     "output_type": "execute_result"
    }
   ],
   "source": [
    "model.evaluate(x=data2n, y=label2n, verbose=1)"
   ]
  },
  {
   "cell_type": "code",
   "execution_count": null,
   "metadata": {
    "id": "egqOh9bO8nBh"
   },
   "outputs": [],
   "source": [
    "model.save(\"model2_b256k7_fps.h5\")"
   ]
  }
 ],
 "metadata": {
  "accelerator": "GPU",
  "colab": {
   "authorship_tag": "ABX9TyPjwD92eZBVe56ms1QNu02S",
   "mount_file_id": "1WyH2MQsL_41b98PkshqN-PhRHSYrtIV3",
   "provenance": []
  },
  "gpuClass": "standard",
  "kernelspec": {
   "display_name": "Python 3 (ipykernel)",
   "language": "python",
   "name": "python3"
  },
  "language_info": {
   "codemirror_mode": {
    "name": "ipython",
    "version": 3
   },
   "file_extension": ".py",
   "mimetype": "text/x-python",
   "name": "python",
   "nbconvert_exporter": "python",
   "pygments_lexer": "ipython3",
   "version": "3.9.12"
  }
 },
 "nbformat": 4,
 "nbformat_minor": 4
}
